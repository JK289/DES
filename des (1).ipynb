{
  "metadata": {
    "kernelspec": {
      "name": "python",
      "display_name": "Python (Pyodide)",
      "language": "python"
    },
    "language_info": {
      "codemirror_mode": {
        "name": "python",
        "version": 3
      },
      "file_extension": ".py",
      "mimetype": "text/x-python",
      "name": "python",
      "nbconvert_exporter": "python",
      "pygments_lexer": "ipython3",
      "version": "3.8"
    }
  },
  "nbformat_minor": 4,
  "nbformat": 4,
  "cells": [
    {
      "cell_type": "markdown",
      "source": "Permutation Tables:",
      "metadata": {}
    },
    {
      "cell_type": "code",
      "source": "e_permutation = [32, 1, 2, 3, 4, 5, \n                   4, 5, 6, 7, 8, 9, \n                   8, 9, 10, 11, 12, 13, \n                   12, 13, 14, 15, 16, 17, \n                   16, 17, 18, 19, 20, 21, \n                   20, 21, 22, 23, 24, 25, \n                   24, 25, 26, 27, 28, 29, \n                   28, 29, 30, 31, 32, 1]  #  Extension permutation extending 32 -> 48 bits\n\np_permutation = [16, 7, 20, 21, 29, 12, 28, 17, \n                  1, 15, 23, 26, 5, 18, 31, 10, \n                  2, 8, 24, 14, 32, 27, 3, 9, \n                  19, 13, 30, 6, 22, 11, 4, 25]  #  P permutation 32 -> 32 bits\n\ni_permutation = [58, 50, 42, 34, 26, 18, 10, 2,\n                       60, 52, 44, 36, 28, 20, 12, 4,\n                       62, 54, 46, 38, 30, 22, 14, 6,\n                       64, 56, 48, 40, 32, 24, 16, 8,\n                       57, 49, 41, 33, 25, 17, 9, 1,\n                       59, 51, 43, 35, 27, 19, 11, 3,\n                       61, 53, 45, 37, 29, 21, 13, 5,\n                       63, 55, 47, 39, 31, 23, 15, 7]  #  Initial permutation 64 -> 64 bits\n\nf_permutation = [40, 8, 48, 16, 56, 24, 64, 32,\n                     39, 7, 47, 15, 55, 23, 63, 31,\n                     38, 6, 46, 14, 54, 22, 62, 30,\n                     37, 5, 45, 13, 53, 21, 61, 29,\n                     36, 4, 44, 12, 52, 20, 60, 28,\n                     35, 3, 43, 11, 51, 19, 59, 27,\n                     34, 2, 42, 10, 50, 18, 58, 26,\n                     33, 1, 41, 9, 49, 17, 57, 25]  #  Final permutation, inverse of initial 64 -> 64 bits\n\n#  key schedule permutations\n\npc1_permutation = [57, 49, 41, 33, 25, 17, 9,\n                   1, 58, 50, 42, 34, 26, 18,\n                   10, 2, 59, 51, 43, 35, 27,\n                   19, 11, 3, 60, 52, 44, 36, \n                   63, 55, 47, 39, 31, 23, 15,\n                   7, 62, 54, 46, 38, 30, 22,\n                   14, 6, 61, 53, 45, 37, 29,\n                   21, 13, 5, 28, 20, 12, 4]\n\npc2_permutation = [14, 17, 11, 24, 1, 5,\n                   3, 28, 15, 6, 21, 10,\n                   23, 19, 12, 4, 26, 8,\n                   16, 7, 27, 20, 13, 2,\n                   41, 52, 31, 37, 47, 55,\n                   30, 40, 51, 45, 33, 48,\n                   44, 49, 39, 56, 34, 53,\n                   46, 42, 50, 36, 29, 32]\n\n\n#  number of left shifts of half keys in each round (1 - 16)\n\nkey_rotations = [1, 1, 2, 2, 2, 2, 2, 2, 1, 2, 2, 2, 2, 2, 2, 1]",
      "metadata": {
        "trusted": true
      },
      "outputs": [],
      "execution_count": 1
    },
    {
      "cell_type": "markdown",
      "source": "Substitution Tables (S-boxes):",
      "metadata": {}
    },
    {
      "cell_type": "code",
      "source": "s1 = [14, 4, 13, 1, 2, 15, 11, 8, 3, 10, 6, 12, 5, 9, 0, 7,\n      0, 15, 7, 4, 14, 2, 13, 1, 10, 6, 12, 11, 9, 5, 3, 8,\n      4, 1, 14, 8, 13, 6, 2, 11, 15, 12, 9, 7, 3, 10, 5, 0,\n      15, 12, 8, 2, 4, 9, 1, 7, 5, 11, 3, 14, 10, 0, 6, 13]\n\ns2 = [15, 1, 8, 14, 6, 11, 3, 4, 9, 7, 2, 13, 12, 0, 5, 10,\n      3, 13, 4, 7, 15, 2, 8, 14, 12, 0, 1, 10, 6, 9, 11, 5,\n      0, 14, 7, 11, 10, 4, 13, 1, 5, 8, 12, 6, 9, 3, 2, 15,\n      13, 8, 10, 1, 3, 15, 4, 2, 11, 6, 7, 12, 0, 5, 14, 9]\n\ns3 = [10, 0, 9, 14, 6, 3, 15, 5, 1, 13, 12, 7, 11, 4, 2, 8,\n      13, 7, 0, 9, 3, 4, 6, 10, 2, 8, 5, 14, 12, 11, 15, 1,\n      13, 6, 4, 9, 8, 15, 3, 0, 11, 1, 2, 12, 5, 10, 14, 7,\n      1, 10, 13, 0, 6, 9, 8, 7, 4, 15, 14, 3, 11, 5, 2, 12]\n\ns4 = [7, 13, 14, 3, 0, 6, 9, 10, 1, 2, 8, 5, 11, 12, 4, 15,\n      13, 8, 11, 5, 6, 15, 0, 3, 4, 7, 2, 12, 1, 10, 14, 9,\n      10, 6, 9, 0, 12, 11, 7, 13, 15, 1, 3, 14, 5, 2, 8, 4,\n      3, 15, 0, 6, 10, 1, 13, 8, 9, 4, 5, 11, 12, 7, 2, 14]\n\ns5 = [2, 12, 4, 1, 7, 10, 11, 6, 8, 5, 3, 15, 13, 0, 14, 9,\n      14, 11, 2, 12, 4, 7, 13, 1, 5, 0, 15, 10, 3, 9, 8, 6,\n      4, 2, 1, 11, 10, 13, 7, 8, 15, 9, 12, 5, 6, 3, 0, 14,\n      11, 8, 12, 7, 1, 14, 2, 13, 6, 15, 0, 9, 10, 4, 5, 3]\n\ns6 = [12, 1, 10, 15, 9, 2, 6, 8, 0, 13, 3, 4, 14, 7, 5, 11,\n      10, 15, 4, 2, 7, 12, 9, 5, 6, 1, 13, 14, 0, 11, 3, 8,\n      9, 14, 15, 5, 2, 8, 12, 3, 7, 0, 4, 10, 1, 13, 11, 6,\n      4, 3, 2, 12, 9, 5, 15, 10, 11, 14, 1, 7, 6, 0, 8, 13]\n\ns7 = [4, 11, 2, 14, 15, 0, 8, 13, 3, 12, 9, 7, 5, 10, 6, 1,\n      13, 0, 11, 7, 4, 9, 1, 10, 14, 3, 5, 12, 2, 15, 8, 6,\n      1, 4, 11, 13, 12, 3, 7, 14, 10, 15, 6, 8, 0, 5, 9, 2,\n      6, 11, 13, 8, 1, 4, 10, 7, 9, 5, 0, 15, 14, 2, 3, 12]\n\ns8 = [13, 2, 8, 4, 6, 15, 11, 1, 10, 9, 3, 14, 5, 0, 12, 7,\n      1, 15, 13, 8, 10, 3, 7, 4, 12, 5, 6, 11, 0, 14, 9, 2,\n      7, 11, 4, 1, 9, 12, 14, 2, 0, 6, 10, 13, 15, 3, 5, 8,\n      2, 1, 14, 7, 4, 10, 8, 13, 15, 12, 9, 0, 3, 5, 6, 11]\n\nsboxes = [s1, s2, s3, s4, s5, s6, s7, s8]\n\nparams = [i_permutation, f_permutation, sboxes, e_permutation, p_permutation, pc1_permutation, pc2_permutation, key_rotations]",
      "metadata": {
        "trusted": true
      },
      "outputs": [],
      "execution_count": 2
    },
    {
      "cell_type": "markdown",
      "source": "Padding and Text - ASCII conversion functions",
      "metadata": {}
    },
    {
      "cell_type": "code",
      "source": "def txt_asciibin(text):  #  ASCII 256 \n    ascii_string = ''\n    for i in range(len(text)):\n        ascii_string += f\"{ord(text[i]):0{8}b}\"\n    return ascii_string\n\ndef binstr_int(binstr):\n    intg = 0\n    for i in range(len(binstr)):\n        intg += int(binstr[len(binstr) - 1 - i]) * 2 ** i \n    return intg\n\ndef asciibin_txt(asciibin):\n    txt = ''\n    for i in range(len(asciibin) // 8):\n        txt += chr(binstr_int(asciibin[i * 8:i * 8 + 8]))\n    return txt\n\ndef pad_64(bits):  #  as in original DES scheme, pad with bit 1 and 0's to full block or add a full  pad block if multiple of 64\n    bits += '1' + (63 - (len(bits) % 64)) * '0'\n    return bits\n",
      "metadata": {
        "trusted": true
      },
      "outputs": [],
      "execution_count": 3
    },
    {
      "cell_type": "code",
      "source": "def xor(a, b):\n    c = ''\n    for i in range(len(a)):\n        if a[i] == b[i]:\n            c += '0'\n        else:\n            c += '1'\n    return c",
      "metadata": {
        "trusted": true
      },
      "outputs": [],
      "execution_count": 4
    },
    {
      "cell_type": "code",
      "source": "def permutation_function(bits, permutation):\n    exit_bits = ''\n    for i in range(len(permutation)):\n        exit_bits += bits[permutation[i] - 1]\n    return exit_bits",
      "metadata": {
        "trusted": true
      },
      "outputs": [],
      "execution_count": 5
    },
    {
      "cell_type": "code",
      "source": "def substitution_function(six_bits, sbox):  #  edge 2 bits -> row, center 4 bits -> column\n    exit_four_bits = sbox[16 * int(six_bits[0] + six_bits[5], 2) + int(six_bits[1:5], 2)]\n    return f\"{exit_four_bits:0{4}b}\"",
      "metadata": {
        "trusted": true
      },
      "outputs": [],
      "execution_count": 6
    },
    {
      "cell_type": "code",
      "source": "def split_eight(bits_48):  #  48 -> 8 binary strings of length 6\n    bit_strings = []\n    for i in range(8):\n        bit_strings.append(bits_48[6 * i:6 * i + 6])\n    return bit_strings\n\n",
      "metadata": {
        "trusted": true
      },
      "outputs": [],
      "execution_count": 7
    },
    {
      "cell_type": "code",
      "source": "def des_feistel(half_block, subkey, sboxes, e_permutation, p_permutation):\n    bits_48 = xor(permutation_function(half_block, e_permutation), subkey)\n    split_bits = split_eight(bits_48)\n    bits_32 = ''\n    for i in range(8):\n        bits_32 += substitution_function(split_bits[i], sboxes[i])\n    bits_32 = permutation_function(bits_32, p_permutation)\n    return bits_32\n\n    ",
      "metadata": {
        "trusted": true
      },
      "outputs": [],
      "execution_count": 8
    },
    {
      "cell_type": "code",
      "source": "def left_shift(bits, nof_shifts):\n    for i in range(nof_shifts):\n        bits += bits[0]\n        bits = bits[1:]\n    return bits\n",
      "metadata": {
        "trusted": true
      },
      "outputs": [],
      "execution_count": 9
    },
    {
      "cell_type": "code",
      "source": "def des_subkeys(key_64, pc1_permutation, pc2_permutation, key_rotations):\n    key_56 = permutation_function(key_64, pc1_permutation)\n    subkeys = []\n    half_1 = key_56[:28]  #  split from bit 0 - 27 and 28 - 55\n    half_2 = key_56[28:]\n    for round in range(16):\n        half_1 = left_shift(half_1, key_rotations[round])\n        half_2 = left_shift(half_2, key_rotations[round])\n        subkeys.append(permutation_function(half_1 + half_2, pc2_permutation))\n    return subkeys\n\n",
      "metadata": {
        "trusted": true
      },
      "outputs": [],
      "execution_count": 10
    },
    {
      "cell_type": "code",
      "source": "def des_16(bits_64, subkeys, i_permutation, f_permutation, sboxes, e_permutation, p_permutation):  #  64 bit blocks\n    bits_64 = permutation_function(bits_64, i_permutation)  #  initial permutation\n    half_1 = bits_64[:32]\n    half_2 = bits_64[32:]\n    for round in range(16):  #  16 rounds of Feistel function on alternative halves\n        temp = half_2\n        half_2 = xor(half_1, des_feistel(half_2, subkeys[round], sboxes, e_permutation, p_permutation))\n        half_1 = temp\n    bits_64 = permutation_function(half_1 + half_2, f_permutation)  #  final permutation\n    return(bits_64)",
      "metadata": {
        "trusted": true
      },
      "outputs": [],
      "execution_count": 11
    },
    {
      "cell_type": "code",
      "source": "#  DES encryption of ascii 256 text\ndef des_enc(ptext, key, params):  #  params is a list containing i_perm, f_perm, sboxes list, e_perm, p_perm, pc1, pc2 permutations and key rotation schedule\n    subkeys = des_subkeys(key, params[5], params[6], params[7])\n    ctext = r''\n    ptext = txt_asciibin(ptext)  #  turn into bits\n    ptext = pad_64(ptext)  #  pad\n    for i in range(len(ptext) // 64):\n        ctext += asciibin_txt(des_16(ptext[i * 64:i * 64 + 64], subkeys, params[0], params[1], params[2], params[3], params[4]))\n    return ctext\n\n#  DES decryption of ascii 256 text\ndef des_dec(ctext, key, params):\n    rev_subkeys = des_subkeys(key, params[5], params[6], params[7])\n    rev_subkeys = rev_subkeys[::-1]\n    ptext = r''\n    ctext = txt_asciibin(ctext)\n    for i in range(len(ctext) // 64):  #  for decryption we reverse the order of the subkeys and swap the permutations i_p and f_p\n        ptext += asciibin_txt(des_16(ctext[i * 64:i * 64 + 64], rev_subkeys, params[1], params[0], params[2], params[3], params[4]))\n    return ptext\n        \n    ",
      "metadata": {
        "trusted": true
      },
      "outputs": [],
      "execution_count": 49
    },
    {
      "cell_type": "code",
      "source": "# testin area\nkey = 'eaeacdfr'\nptext = 'See you there tomorrow, @Monument STN'\nkey = txt_asciibin(key)\nprint(len(ptext))\nprint(len(des_enc(ptext, key, params)))\nprint(des_enc(ptext, key, params))\nprint(des_dec(des_enc(ptext, key, params), key, params))",
      "metadata": {
        "trusted": true
      },
      "outputs": [
        {
          "name": "stdout",
          "output_type": "stream",
          "text": "37\n40\nëÂ×ÀÏñ\u001a\u0011´ý\u000eaÝ¥)ÉMÞxU¯,Ð`¹<uÅ¿Ò\u0016\nô\u0010FIT\u001d\u0019Ò.ê\u0012\u0007Êì8q`~}\u0017í§9tA¯tÁñîã\u001e\n"
        }
      ],
      "execution_count": 53
    },
    {
      "cell_type": "code",
      "source": "# testing areae\nb = 2 ** 58 - 3 ** 32 + 5 ** 11\nb = f\"{b:0{64}b}\"\nkey = 2 ** 55 + 3 ** 12 + 5 ** 10 - 2 ** 12 + 7 ** 19\nkey = f\"{key:0{64}b}\"\nsubkeys = des_subkeys(key, pc1_permutation, pc2_permutation, key_rotations)\nprint(b)\nprint(key)\nprint(des_16(b, subkeys, i_permutation, f_permutation, sboxes, e_permutation, p_permutation))\n\nprint(txt_asciibin(r'eeAA%%555@!!'))\nprint(binstr_int('01100011'))\nprint(asciibin_txt(txt_asciibin(r'eeAA%%555@!!')))\nprint(pad_64('0000001100101011101000100100100011011100011011101100111011010111'))\nprint(pad_64('00000011001010111010001001001000110111000110111011000000001100101011101000100100100011011100011011101100'))\nprint(len(pad_64('00000011001010111010001001001000110111000110111011000000001100101011101000100100100011011100011011101100')))\n",
      "metadata": {
        "trusted": true
      },
      "outputs": [
        {
          "name": "stdout",
          "output_type": "stream",
          "text": "0000001111111001011010101011000000100000110010101101000001011100\n0000000010101000011111110011110000011010111110000011011011000001\n0000001100101011101000100100100011011100011011101100111011010111\n011001010110010101000001010000010010010100100101001101010011010100110101010000000010000100100001\n99\neeAA%%555@!!\n00000011001010111010001001001000110111000110111011001110110101111000000000000000000000000000000000000000000000000000000000000000\n00000011001010111010001001001000110111000110111011000000001100101011101000100100100011011100011011101100100000000000000000000000\n128\n"
        }
      ],
      "execution_count": 54
    },
    {
      "cell_type": "code",
      "source": "\n",
      "metadata": {
        "trusted": true
      },
      "outputs": [],
      "execution_count": null
    }
  ]
}