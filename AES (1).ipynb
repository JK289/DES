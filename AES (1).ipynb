{
  "metadata": {
    "kernelspec": {
      "name": "python",
      "display_name": "Python (Pyodide)",
      "language": "python"
    },
    "language_info": {
      "codemirror_mode": {
        "name": "python",
        "version": 3
      },
      "file_extension": ".py",
      "mimetype": "text/x-python",
      "name": "python",
      "nbconvert_exporter": "python",
      "pygments_lexer": "ipython3",
      "version": "3.8"
    }
  },
  "nbformat_minor": 5,
  "nbformat": 4,
  "cells": [
    {
      "id": "7fced367-2ab7-4ac3-8a44-1eed286aae2c",
      "cell_type": "code",
      "source": "import numpy as np",
      "metadata": {
        "trusted": true
      },
      "outputs": [],
      "execution_count": 52
    },
    {
      "id": "dccb6558-9743-4a16-bff7-c4fa96579908",
      "cell_type": "code",
      "source": "irr = '100011011'\nmix_columns_matrix = ['02', '03', '01', '01',\n                      '01', '02', '03', '01',\n                      '01', '01', '02', '03',\n                      '03', '01', '01', '02']\n\ninverse_mix_columns_matrix = ['0e', '0b', '0d', '09',\n                              '09', '0e', '0b', '0d',\n                              '0d', '09', '0e', '0b',\n                              '0b', '0d', '09', '0e']",
      "metadata": {
        "trusted": true
      },
      "outputs": [],
      "execution_count": 53
    },
    {
      "id": "def46e65-8cd6-448e-8b28-f93a289ab67a",
      "cell_type": "code",
      "source": "def hex_bin(n):  #  converts between binary and hexadecimal\n    hex_digits = ['0', '1', '2', '3', '4', '5', '6', '7', '8', '9', 'a', 'b', 'c', 'd', 'e', 'f']\n    bin_digits = [f'{a:0{4}b}' for a in range(16)]\n    if n in hex_digits:\n        return bin_digits[hex_digits.index(n)]\n    if n in bin_digits:\n        return hex_digits[bin_digits.index(n)]\n    return 'invalid'\n\ndef dec_hex(n):  #  converts between decimal and hexadecimal\n    hex_digits = ['0', '1', '2', '3', '4', '5', '6', '7', '8', '9', 'a', 'b', 'c', 'd', 'e', 'f']\n    dec_digits = [f'{a}' for a in range(16)]\n    if n in hex_digits:\n        return dec_digits[hex_digits.index(n)]\n    if n in dec_digits:\n        return hex_digits[dec_digits.index(n)]\n    return 'invalid'\n\nprint(hex_bin('0101'))\nprint(dec_hex('d'))",
      "metadata": {
        "trusted": true
      },
      "outputs": [
        {
          "name": "stdout",
          "output_type": "stream",
          "text": "5\n13\n"
        }
      ],
      "execution_count": 54
    },
    {
      "id": "3fd10570-e43c-44db-80ea-1c1963ad4006",
      "cell_type": "code",
      "source": "def xor(a, b):\n    c = ''\n    for i in range(len(a)):\n        if a[i] == b[i]:\n            c += '0'\n        else:\n            c += '1'\n    return c",
      "metadata": {
        "trusted": true
      },
      "outputs": [],
      "execution_count": 55
    },
    {
      "id": "5586e8f9-c47a-457c-b6be-70bd7af2ef9d",
      "cell_type": "code",
      "source": "def mult_2(pol, irr):  #  multiplication by polynomial 00000010 in GF(256) using an irreducible polynomial\n    pol = pol + '0'\n    if pol[0] == '1':  #  if we have an X^8 term we reduce modulo the irreducible polynomial\n        pol = xor(pol, irr)\n    pol = pol[1:]  #  slice back to 8 binary digits\n    return pol\n\nprint(mult_2('10000111', '100011011'))",
      "metadata": {
        "trusted": true
      },
      "outputs": [
        {
          "name": "stdout",
          "output_type": "stream",
          "text": "00010101\n"
        }
      ],
      "execution_count": 56
    },
    {
      "id": "fda09621-1514-4a96-92d4-b2214a6a068c",
      "cell_type": "code",
      "source": "#  hexadecimal xor list\nhex_xor_list = []\nfor d1 in range(16):\n    for d2 in range(16):\n        hex_xor_list.append(hex_bin(xor(f'{d1:0{4}b}', f'{d2:0{4}b}')))\n\n#  build list of results of the operation 02 * h in GF(256) for hex numbers h from 00 to FF using stated irreducible polynomial for faster calculation\n\ntwo_pol = []\nfor d1 in range(16):\n    for d2 in range(16):\n        mult = mult_2(f'{d1:0{4}b}' + f'{d2:0{4}b}', irr)\n        two_pol.append(hex_bin(mult[:4]) + hex_bin(mult[4:]))\n\nprint('xor list:\\n', hex_xor_list)\nprint('\\nmult by 02x list:\\n', two_pol)\n      ",
      "metadata": {
        "trusted": true,
        "scrolled": true
      },
      "outputs": [
        {
          "name": "stdout",
          "output_type": "stream",
          "text": "xor list:\n ['0', '1', '2', '3', '4', '5', '6', '7', '8', '9', 'a', 'b', 'c', 'd', 'e', 'f', '1', '0', '3', '2', '5', '4', '7', '6', '9', '8', 'b', 'a', 'd', 'c', 'f', 'e', '2', '3', '0', '1', '6', '7', '4', '5', 'a', 'b', '8', '9', 'e', 'f', 'c', 'd', '3', '2', '1', '0', '7', '6', '5', '4', 'b', 'a', '9', '8', 'f', 'e', 'd', 'c', '4', '5', '6', '7', '0', '1', '2', '3', 'c', 'd', 'e', 'f', '8', '9', 'a', 'b', '5', '4', '7', '6', '1', '0', '3', '2', 'd', 'c', 'f', 'e', '9', '8', 'b', 'a', '6', '7', '4', '5', '2', '3', '0', '1', 'e', 'f', 'c', 'd', 'a', 'b', '8', '9', '7', '6', '5', '4', '3', '2', '1', '0', 'f', 'e', 'd', 'c', 'b', 'a', '9', '8', '8', '9', 'a', 'b', 'c', 'd', 'e', 'f', '0', '1', '2', '3', '4', '5', '6', '7', '9', '8', 'b', 'a', 'd', 'c', 'f', 'e', '1', '0', '3', '2', '5', '4', '7', '6', 'a', 'b', '8', '9', 'e', 'f', 'c', 'd', '2', '3', '0', '1', '6', '7', '4', '5', 'b', 'a', '9', '8', 'f', 'e', 'd', 'c', '3', '2', '1', '0', '7', '6', '5', '4', 'c', 'd', 'e', 'f', '8', '9', 'a', 'b', '4', '5', '6', '7', '0', '1', '2', '3', 'd', 'c', 'f', 'e', '9', '8', 'b', 'a', '5', '4', '7', '6', '1', '0', '3', '2', 'e', 'f', 'c', 'd', 'a', 'b', '8', '9', '6', '7', '4', '5', '2', '3', '0', '1', 'f', 'e', 'd', 'c', 'b', 'a', '9', '8', '7', '6', '5', '4', '3', '2', '1', '0']\n\nmult by 02x list:\n ['00', '02', '04', '06', '08', '0a', '0c', '0e', '10', '12', '14', '16', '18', '1a', '1c', '1e', '20', '22', '24', '26', '28', '2a', '2c', '2e', '30', '32', '34', '36', '38', '3a', '3c', '3e', '40', '42', '44', '46', '48', '4a', '4c', '4e', '50', '52', '54', '56', '58', '5a', '5c', '5e', '60', '62', '64', '66', '68', '6a', '6c', '6e', '70', '72', '74', '76', '78', '7a', '7c', '7e', '80', '82', '84', '86', '88', '8a', '8c', '8e', '90', '92', '94', '96', '98', '9a', '9c', '9e', 'a0', 'a2', 'a4', 'a6', 'a8', 'aa', 'ac', 'ae', 'b0', 'b2', 'b4', 'b6', 'b8', 'ba', 'bc', 'be', 'c0', 'c2', 'c4', 'c6', 'c8', 'ca', 'cc', 'ce', 'd0', 'd2', 'd4', 'd6', 'd8', 'da', 'dc', 'de', 'e0', 'e2', 'e4', 'e6', 'e8', 'ea', 'ec', 'ee', 'f0', 'f2', 'f4', 'f6', 'f8', 'fa', 'fc', 'fe', '1b', '19', '1f', '1d', '13', '11', '17', '15', '0b', '09', '0f', '0d', '03', '01', '07', '05', '3b', '39', '3f', '3d', '33', '31', '37', '35', '2b', '29', '2f', '2d', '23', '21', '27', '25', '5b', '59', '5f', '5d', '53', '51', '57', '55', '4b', '49', '4f', '4d', '43', '41', '47', '45', '7b', '79', '7f', '7d', '73', '71', '77', '75', '6b', '69', '6f', '6d', '63', '61', '67', '65', '9b', '99', '9f', '9d', '93', '91', '97', '95', '8b', '89', '8f', '8d', '83', '81', '87', '85', 'bb', 'b9', 'bf', 'bd', 'b3', 'b1', 'b7', 'b5', 'ab', 'a9', 'af', 'ad', 'a3', 'a1', 'a7', 'a5', 'db', 'd9', 'df', 'dd', 'd3', 'd1', 'd7', 'd5', 'cb', 'c9', 'cf', 'cd', 'c3', 'c1', 'c7', 'c5', 'fb', 'f9', 'ff', 'fd', 'f3', 'f1', 'f7', 'f5', 'eb', 'e9', 'ef', 'ed', 'e3', 'e1', 'e7', 'e5']\n"
        }
      ],
      "execution_count": 57
    },
    {
      "id": "6472faee-4bf4-4cfd-933c-e824bf8b083c",
      "cell_type": "code",
      "source": "def f_hex_xor(x, y):\n    return hex_xor_list[int(dec_hex(x[0])) * 16 + int(dec_hex(y[0]))] + hex_xor_list[int(dec_hex(x[1])) * 16 + int(dec_hex(y[1]))]\n\ndef f_mult2(pol_hex):  #  multiplication by 02\n        return two_pol[int(dec_hex(pol_hex[0])) * 16 + int(dec_hex(pol_hex[1]))]\n\ndef gen_mult_hex(mult, pol_hex):  #  !!!!! use this to generate a precaluclated table for 03, 09, 0b, 0d, 0e for both forward and inverse mix columns\n    if mult == '01':\n        return pol_hex\n    if mult == '02':\n        return f_mult2(pol_hex)\n    if mult == '03':\n        return f_hex_xor(f_mult2(pol_hex), pol_hex)  # 02 xor 01 = 03\n    if mult == '09':\n        return f_hex_xor(f_mult2(f_mult2(f_mult2(pol_hex))), pol_hex)  #  (02 x 02 x 02) xor 01 = 09 or (X * X * X) + 1 = X^3 + 1\n    if mult == '0b':\n        return f_hex_xor(gen_mult_hex('09', pol_hex), f_mult2(pol_hex))  # 09 xor 02 = 0b or (X^3 + 1) + X = X^3 + X + 1\n    if mult == '0d':\n        return f_hex_xor(gen_mult_hex('09', pol_hex), f_mult2(f_mult2(pol_hex))) # 09 xor (02 x 02) = 0d or (X^3 + 1) + (X * X) = X^3 + X^2 + 1\n    if mult == '0e':\n        return f_hex_xor(f_hex_xor(f_mult2(f_mult2(f_mult2(pol_hex))), f_mult2(f_mult2(pol_hex))), f_mult2(pol_hex))\n        # (02 x 02 x 02) xor (02 x 02) xor 02 = 0e or (X * X * X) + (X * X) + X = X^3 + X^2 + X\n    \n    \n\n\nprint(f_hex_xor('a1', '32')) # 93\nprint(f_hex_xor('af', '00')) # af\nprint(gen_mult_hex('01', 'fe')) # fe\nprint(gen_mult_hex('02', '87')) # 15\nprint(gen_mult_hex('03', '6e')) # b2\nprint(gen_mult_hex('09', 'ae')) # a9\nprint(gen_mult_hex('0b', '02')) # 16\nprint(gen_mult_hex('0d', '11')) # dd\nprint(gen_mult_hex('0e', 'cc')) # a4\n\n#  simplify functions add xor of hex function using tables",
      "metadata": {
        "trusted": true
      },
      "outputs": [
        {
          "name": "stdout",
          "output_type": "stream",
          "text": "93\naf\nfe\n15\nb2\na9\n16\ndd\na4\n"
        }
      ],
      "execution_count": 58
    },
    {
      "id": "66f9fc53-6772-44d9-b44f-52f1aa13006b",
      "cell_type": "code",
      "source": "#  mix columns step function, receiving mixing matrix and input block use inverse for decryption\ndef mix_columns(mix_matrix, block_matrix):  #  even though labelled as \"matrices\", these are unidimensional lists\n    mixed = []\n    for j in range(16):\n            element = '00'\n            for k in range(4):\n                element = f_hex_xor(element, gen_mult_hex(mix_matrix[(j//4) * 4 + k], block_matrix[j % 4 + 4 * k]))\n            mixed.append(element)\n    return mixed\n\ntest = ['47', '40', 'a3', '4c',\n        '37', 'd4', '70', '9f',\n        '94', 'e4', '3a', '42',\n        'ed', 'a5', 'a6', 'bc']\n\ntest2 = ['87', 'f2', '4d', '97',\n        '6e', '4c', '90', 'ec',\n        '46', 'e7', '4a', 'c3',\n        'a6', '8c', 'd8', '95']\n\nprint(mix_columns(inverse_mix_columns_matrix, ['ae', 'a6', '51', 'dc', '63', '61', 'ab', '13', '6f', 'b3', '56', '88', 'ab', 'a1', 'e3', '6a']))\nprint(mix_columns(inverse_mix_columns_matrix, ['47', '40', 'a3', '4c', '37', 'd4', '70', '9f', '94', 'e4', '3a', '42', 'ed', 'a5', 'a6', 'bc']))\nprint(mix_columns(mix_columns_matrix, test))  # ['ae', 'a6', '51', 'dc', '63', '61', 'ab', '13', '6f', 'b3', '56', '88', 'ab', 'a1', 'e3', '6a']\nprint(mix_columns(mix_columns_matrix, test2)) # ['47', '40', 'a3', '4c', '37', 'd4', '70', '9f', '94', 'e4', '3a', '42', 'ed', 'a5', 'a6', 'bc']",
      "metadata": {
        "trusted": true
      },
      "outputs": [
        {
          "name": "stdout",
          "output_type": "stream",
          "text": "['47', '40', 'a3', '4c', '37', 'd4', '70', '9f', '94', 'e4', '3a', '42', 'ed', 'a5', 'a6', 'bc']\n['87', 'f2', '4d', '97', '6e', '4c', '90', 'ec', '46', 'e7', '4a', 'c3', 'a6', '8c', 'd8', '95']\n['ae', 'a6', '51', 'dc', '63', '61', 'ab', '13', '6f', 'b3', '56', '88', 'ab', 'a1', 'e3', '6a']\n['47', '40', 'a3', '4c', '37', 'd4', '70', '9f', '94', 'e4', '3a', '42', 'ed', 'a5', 'a6', 'bc']\n"
        }
      ],
      "execution_count": 59
    },
    {
      "id": "d2cf1d7f-0c9f-40fa-8b3f-a711d1757e75",
      "cell_type": "code",
      "source": "",
      "metadata": {
        "trusted": true
      },
      "outputs": [],
      "execution_count": null
    }
  ]
}