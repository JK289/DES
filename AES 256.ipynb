{
  "cells": [
    {
      "cell_type": "code",
      "execution_count": 19,
      "id": "dccb6558-9743-4a16-bff7-c4fa96579908",
      "metadata": {
        "trusted": true
      },
      "outputs": [],
      "source": [
        "# AES-256 \n",
        "# nk = 8, number of 4-byte words in key\n",
        "# nr = 14, number of rounds \n",
        "\n",
        "\n",
        "# irreducible polynomial X^8 + X^4 + X^3 + X + 1\n",
        "irr = '100011011'\n",
        "\n",
        "# matrix of polynomials for mix columns used in encryption\n",
        "mmat = ['02', '03', '01', '01',\n",
        "        '01', '02', '03', '01',\n",
        "        '01', '01', '02', '03',\n",
        "        '03', '01', '01', '02']\n",
        "\n",
        "# inverse matrix of polynomials for inverse mix columns used in decryption\n",
        "inv_mmat = ['0e', '0b', '0d', '09',\n",
        "            '09', '0e', '0b', '0d',\n",
        "            '0d', '09', '0e', '0b',\n",
        "            '0b', '0d', '09', '0e']\n",
        "\n",
        "# S-box used in SubBytes for encryption\n",
        "s_box = [\n",
        "    '63', '7c', '77', '7b', 'f2', '6b', '6f', 'c5', '30', '01', '67', '2b', 'fe', 'd7', 'ab', '76',\n",
        "    'ca', '82', 'c9', '7d', 'fa', '59', '47', 'f0', 'ad', 'd4', 'a2', 'af', '9c', 'a4', '72', 'c0', \n",
        "    'b7', 'fd', '93', '26', '36', '3f', 'f7', 'cc', '34', 'a5', 'e5', 'f1', '71', 'd8', '31', '15', \n",
        "    '04', 'c7', '23', 'c3', '18', '96', '05', '9a', '07', '12', '80', 'e2', 'eb', '27', 'b2', '75', \n",
        "    '09', '83', '2c', '1a', '1b', '6e', '5a', 'a0', '52', '3b', 'd6', 'b3', '29', 'e3', '2f', '84', \n",
        "    '53', 'd1', '00', 'ed', '20', 'fc', 'b1', '5b', '6a', 'cb', 'be', '39', '4a', '4c', '58', 'cf', \n",
        "    'd0', 'ef', 'aa', 'fb', '43', '4d', '33', '85', '45', 'f9', '02', '7f', '50', '3c', '9f', 'a8', \n",
        "    '51', 'a3', '40', '8f', '92', '9d', '38', 'f5', 'bc', 'b6', 'da', '21', '10', 'ff', 'f3', 'd2', \n",
        "    'cd', '0c', '13', 'ec', '5f', '97', '44', '17', 'c4', 'a7', '7e', '3d', '64', '5d', '19', '73', \n",
        "    '60', '81', '4f', 'dc', '22', '2a', '90', '88', '46', 'ee', 'b8', '14', 'de', '5e', '0b', 'db', \n",
        "    'e0', '32', '3a', '0a', '49', '06', '24', '5c', 'c2', 'd3', 'ac', '62', '91', '95', 'e4', '79', \n",
        "    'e7', 'c8', '37', '6d', '8d', 'd5', '4e', 'a9', '6c', '56', 'f4', 'ea', '65', '7a', 'ae', '08', \n",
        "    'ba', '78', '25', '2e', '1c', 'a6', 'b4', 'c6', 'e8', 'dd', '74', '1f', '4b', 'bd', '8b', '8a', \n",
        "    '70', '3e', 'b5', '66', '48', '03', 'f6', '0e', '61', '35', '57', 'b9', '86', 'c1', '1d', '9e', \n",
        "    'e1', 'f8', '98', '11', '69', 'd9', '8e', '94', '9b', '1e', '87', 'e9', 'ce', '55', '28', 'df', \n",
        "    '8c', 'a1', '89', '0d', 'bf', 'e6', '42', '68', '41', '99', '2d', '0f', 'b0', '54', 'bb', '16'\n",
        "]\n",
        "\n",
        "# inverse S-box used in SubBytes for decryption\n",
        "inv_s_box = [\n",
        "    '52', '09', '6a', 'd5', '30', '36', 'a5', '38', 'bf', '40', 'a3', '9e', '81', 'f3', 'd7', 'fb',\n",
        "    '7c', 'e3', '39', '82', '9b', '2f', 'ff', '87', '34', '8e', '43', '44', 'c4', 'de', 'e9', 'cb', \n",
        "    '54', '7b', '94', '32', 'a6', 'c2', '23', '3d', 'ee', '4c', '95', '0b', '42', 'fa', 'c3', '4e', \n",
        "    '08', '2e', 'a1', '66', '28', 'd9', '24', 'b2', '76', '5b', 'a2', '49', '6d', '8b', 'd1', '25', \n",
        "    '72', 'f8', 'f6', '64', '86', '68', '98', '16', 'd4', 'a4', '5c', 'cc', '5d', '65', 'b6', '92', \n",
        "    '6c', '70', '48', '50', 'fd', 'ed', 'b9', 'da', '5e', '15', '46', '57', 'a7', '8d', '9d', '84', \n",
        "    '90', 'd8', 'ab', '00', '8c', 'bc', 'd3', '0a', 'f7', 'e4', '58', '05', 'b8', 'b3', '45', '06', \n",
        "    'd0', '2c', '1e', '8f', 'ca', '3f', '0f', '02', 'c1', 'af', 'bd', '03', '01', '13', '8a', '6b', \n",
        "    '3a', '91', '11', '41', '4f', '67', 'dc', 'ea', '97', 'f2', 'cf', 'ce', 'f0', 'b4', 'e6', '73', \n",
        "    '96', 'ac', '74', '22', 'e7', 'ad', '35', '85', 'e2', 'f9', '37', 'e8', '1c', '75', 'df', '6e', \n",
        "    '47', 'f1', '1a', '71', '1d', '29', 'c5', '89', '6f', 'b7', '62', '0e', 'aa', '18', 'be', '1b', \n",
        "    'fc', '56', '3e', '4b', 'c6', 'd2', '79', '20', '9a', 'db', 'c0', 'fe', '78', 'cd', '5a', 'f4', \n",
        "    '1f', 'dd', 'a8', '33', '88', '07', 'c7', '31', 'b1', '12', '10', '59', '27', '80', 'ec', '5f', \n",
        "    '60', '51', '7f', 'a9', '19', 'b5', '4a', '0d', '2d', 'e5', '7a', '9f', '93', 'c9', '9c', 'ef', \n",
        "    'a0', 'e0', '3b', '4d', 'ae', '2a', 'f5', 'b0', 'c8', 'eb', 'bb', '3c', '83', '53', '99', '61', \n",
        "    '17', '2b', '04', '7e', 'ba', '77', 'd6', '26', 'e1', '69', '14', '63', '55', '21', '0c', '7d'\n",
        "]\n",
        "\n",
        "# rounding constants used in key schedule\n",
        "rcon = [['01', '00', '00', '00'], ['02', '00', '00', '00'], ['04', '00', '00', '00'], ['08', '00', '00', '00'], \n",
        "        ['10', '00', '00', '00'], ['20', '00', '00', '00'], ['40', '00', '00', '00'], ['80', '00', '00', '00'], \n",
        "        ['1b', '00', '00', '00'], ['36', '00', '00', '00']]\n",
        "\n",
        "# Windows-1252 standard with lowercase greek letters α β γ δ ε ζ η for unassigned characters (in hex): 81 8d 8f 90 9d a0 ad\n",
        "abc = ['␀', '␁', '␂', '␃', '␄', '␅', '␆', '␇',\n",
        "       '␈', '␉', '␊', '␋', '␌', '␍', '␎', '␏',\n",
        "       '␐', '␑', '␒', '␓', '␔', '␕', '␖', '␗',\n",
        "       '␘', '␙', '␚', '␛', '␜', '␝', '␞', '␟',\n",
        "       ' ', '!', '\\\"', '#', '$', '%', '&', '\\'',\n",
        "       '(', ')', '*', '+', ',', '-', '.', '/',\n",
        "       '0', '1', '2', '3', '4', '5', '6', '7',\n",
        "       '8', '9', ':', ';', '<', '=', '>', '?',\n",
        "       '@', 'A', 'B', 'C', 'D', 'E', 'F', 'G',\n",
        "       'H', 'I', 'J', 'K', 'L', 'M', 'N', 'O',\n",
        "       'P', 'Q', 'R', 'S', 'T', 'U', 'V', 'W',\n",
        "       'X', 'Y', 'Z', '[', '\\\\', ']', '^', '_',\n",
        "       '`', 'a', 'b', 'c', 'd', 'e', 'f', 'g',\n",
        "       'h', 'i', 'j', 'k', 'l', 'm', 'n', 'o',\n",
        "       'p', 'q', 'r', 's', 't', 'u', 'v', 'w',\n",
        "       'x', 'y', 'z', '{', '|', '}', '~', '␡',\n",
        "       '€', 'α', '‚', 'ƒ', '„', '…', '†', '‡',\n",
        "       'ˆ', '‰', 'Š', '‹', 'Œ', 'β', 'Ž', 'γ',\n",
        "       'δ', '‘', '’', '“', '”', '•', '–', '—',\n",
        "       '˜', '™', 'š', '›', 'œ', 'ε', 'ž', 'Ÿ',\n",
        "       'ζ', '¡', '¢', '£', '¤', '¥', '¦', '§',\n",
        "       '¨', '©', 'ª', '«', '¬', 'η', '®', '¯',\n",
        "       '°', '±', '²', '³', '´', 'µ', '¶', '·',\n",
        "       '¸', '¹', 'º', '»', '¼', '½', '¾', '¿',\n",
        "       'À', 'Á', 'Â', 'Ã', 'Ä', 'Å', 'Æ', 'Ç',\n",
        "       'È', 'É', 'Ê', 'Ë', 'Ì', 'Í', 'Î', 'Ï',\n",
        "       'Ð', 'Ñ', 'Ò', 'Ó', 'Ô', 'Õ', 'Ö', '×',\n",
        "       'Ø', 'Ù', 'Ú', 'Û', 'Ü', 'Ý', 'Þ', 'ß',\n",
        "       'à', 'á', 'â', 'ã', 'ä', 'å', 'æ', 'ç',\n",
        "       'è', 'é', 'ê', 'ë', 'ì', 'í', 'î', 'ï',\n",
        "       'ð', 'ñ', 'ò', 'ó', 'ô', 'õ', 'ö', '÷',\n",
        "       'ø', 'ù', 'ú', 'û', 'ü', 'ý', 'þ', 'ÿ'\n",
        "       ]\n",
        "\n",
        "hex = ['00', '01', '02', '03', '04', '05', '06', '07',\n",
        "       '08', '09', '0a', '0b', '0c', '0d', '0e', '0f',\n",
        "       '10', '11', '12', '13', '14', '15', '16', '17',\n",
        "       '18', '19', '1a', '1b', '1c', '1d', '1e', '1f',\n",
        "       '20', '21', '22', '23', '24', '25', '26', '27',\n",
        "       '28', '29', '2a', '2b', '2c', '2d', '2e', '2f',\n",
        "       '30', '31', '32', '33', '34', '35', '36', '37',\n",
        "       '38', '39', '3a', '3b', '3c', '3d', '3e', '3f',\n",
        "       '40', '41', '42', '43', '44', '45', '46', '47',\n",
        "       '48', '49', '4a', '4b', '4c', '4d', '4e', '4f',\n",
        "       '50', '51', '52', '53', '54', '55', '56', '57',\n",
        "       '58', '59', '5a', '5b', '5c', '5d', '5e', '5f',\n",
        "       '60', '61', '62', '63', '64', '65', '66', '67',\n",
        "       '68', '69', '6a', '6b', '6c', '6d', '6e', '6f',\n",
        "       '70', '71', '72', '73', '74', '75', '76', '77',\n",
        "       '78', '79', '7a', '7b', '7c', '7d', '7e', '7f',\n",
        "       '80', '81', '82', '83', '84', '85', '86', '87',\n",
        "       '88', '89', '8a', '8b', '8c', '8d', '8e', '8f',\n",
        "       '90', '91', '92', '93', '94', '95', '96', '97',\n",
        "       '98', '99', '9a', '9b', '9c', '9d', '9e', '9f',\n",
        "       'a0', 'a1', 'a2', 'a3', 'a4', 'a5', 'a6', 'a7',\n",
        "       'a8', 'a9', 'aa', 'ab', 'ac', 'ad', 'ae', 'af',\n",
        "       'b0', 'b1', 'b2', 'b3', 'b4', 'b5', 'b6', 'b7',\n",
        "       'b8', 'b9', 'ba', 'bb', 'bc', 'bd', 'be', 'bf',\n",
        "       'c0', 'c1', 'c2', 'c3', 'c4', 'c5', 'c6', 'c7',\n",
        "       'c8', 'c9', 'ca', 'cb', 'cc', 'cd', 'ce', 'cf',\n",
        "       'd0', 'd1', 'd2', 'd3', 'd4', 'd5', 'd6', 'd7',\n",
        "       'd8', 'd9', 'da', 'db', 'dc', 'dd', 'de', 'df',\n",
        "       'e0', 'e1', 'e2', 'e3', 'e4', 'e5', 'e6', 'e7',\n",
        "       'e8', 'e9', 'ea', 'eb', 'ec', 'ed', 'ee', 'ef',\n",
        "       'f0', 'f1', 'f2', 'f3', 'f4', 'f5', 'f6', 'f7',\n",
        "       'f8', 'f9', 'fa', 'fb', 'fc', 'fd', 'fe', 'ff',\n",
        "       ]\n"
      ]
    },
    {
      "cell_type": "code",
      "execution_count": 20,
      "id": "def46e65-8cd6-448e-8b28-f93a289ab67a",
      "metadata": {
        "trusted": true
      },
      "outputs": [
        {
          "name": "stdout",
          "output_type": "stream",
          "text": [
            "5\n",
            "13\n"
          ]
        }
      ],
      "source": [
        "def hex_bin(n):  #  converts between binary and hexadecimal\n",
        "    hex_digits = ['0', '1', '2', '3', '4', '5', '6', '7', '8', '9', 'a', 'b', 'c', 'd', 'e', 'f']\n",
        "    bin_digits = [f'{a:0{4}b}' for a in range(16)]\n",
        "    if n in hex_digits:\n",
        "        return bin_digits[hex_digits.index(n)]\n",
        "    if n in bin_digits:\n",
        "        return hex_digits[bin_digits.index(n)]\n",
        "    return 'invalid'\n",
        "\n",
        "def dec_hex(n):  #  converts between decimal and hexadecimal\n",
        "    hex_digits = ['0', '1', '2', '3', '4', '5', '6', '7', '8', '9', 'a', 'b', 'c', 'd', 'e', 'f']\n",
        "    dec_digits = [f'{a}' for a in range(16)]\n",
        "    if n in hex_digits:\n",
        "        return dec_digits[hex_digits.index(n)]\n",
        "    if n in dec_digits:\n",
        "        return hex_digits[dec_digits.index(n)]\n",
        "    return 'invalid'\n",
        "\n",
        "print(hex_bin('0101'))\n",
        "print(dec_hex('d'))"
      ]
    },
    {
      "cell_type": "code",
      "execution_count": 21,
      "id": "3fd10570-e43c-44db-80ea-1c1963ad4006",
      "metadata": {
        "trusted": true
      },
      "outputs": [],
      "source": [
        "def xor(a, b):\n",
        "    c = ''\n",
        "    for i in range(len(a)):\n",
        "        if a[i] == b[i]:\n",
        "            c += '0'\n",
        "        else:\n",
        "            c += '1'\n",
        "    return c"
      ]
    },
    {
      "cell_type": "code",
      "execution_count": 22,
      "id": "5586e8f9-c47a-457c-b6be-70bd7af2ef9d",
      "metadata": {
        "trusted": true
      },
      "outputs": [
        {
          "name": "stdout",
          "output_type": "stream",
          "text": [
            "00010101\n"
          ]
        }
      ],
      "source": [
        "def mult_2(pol, irr):  #  multiplication by polynomial 00000010 in GF(256) using an irreducible polynomial\n",
        "    pol = pol + '0'\n",
        "    if pol[0] == '1':  #  if we have an X^8 term we reduce modulo the irreducible polynomial\n",
        "        pol = xor(pol, irr)\n",
        "    pol = pol[1:]  #  slice back to 8 binary digits\n",
        "    return pol\n",
        "\n",
        "print(mult_2('10000111', '100011011')) # 00010101"
      ]
    },
    {
      "cell_type": "code",
      "execution_count": 23,
      "id": "fda09621-1514-4a96-92d4-b2214a6a068c",
      "metadata": {
        "scrolled": true,
        "trusted": true
      },
      "outputs": [],
      "source": [
        "hex_small_list = []\n",
        "for d1 in range(16):\n",
        "    hex_small_list.append(dec_hex(str(d1)))\n",
        "        \n",
        "\n",
        "hex_list = []\n",
        "for d1 in range(16):\n",
        "    for d2 in range(16):\n",
        "        hex_list.append(dec_hex(str(d1)) + dec_hex(str(d2)))\n",
        "        \n",
        "\n",
        "\n",
        "#  hexadecimal xor list\n",
        "hex_xor_list = []\n",
        "for d1 in range(16):\n",
        "    for d2 in range(16):\n",
        "        hex_xor_list.append(hex_bin(xor(f'{d1:0{4}b}', f'{d2:0{4}b}')))\n",
        "\n",
        "#  build list of results of the operation 02 * h in GF(256) for hex numbers h from 00 to FF using stated irreducible polynomial for faster calculation\n",
        "\n",
        "two_pol = []\n",
        "for d1 in range(16):\n",
        "    for d2 in range(16):\n",
        "        mult = mult_2(f'{d1:0{4}b}' + f'{d2:0{4}b}', irr)\n",
        "        two_pol.append(hex_bin(mult[:4]) + hex_bin(mult[4:]))      "
      ]
    },
    {
      "cell_type": "code",
      "execution_count": 24,
      "id": "6472faee-4bf4-4cfd-933c-e824bf8b083c",
      "metadata": {
        "trusted": true
      },
      "outputs": [
        {
          "name": "stdout",
          "output_type": "stream",
          "text": [
            "93\n",
            "af\n",
            "a3\n",
            "15\n",
            "b2\n",
            "a9\n",
            "16\n",
            "dd\n",
            "a4\n"
          ]
        }
      ],
      "source": [
        "def f_hex_xor(x, y):  #  xor double hex digits using table\n",
        "    return hex_xor_list[hex_small_list.index(x[0]) * 16 + hex_small_list.index(y[0])] + hex_xor_list[hex_small_list.index(x[1]) * 16 + hex_small_list.index(y[1])]\n",
        "\n",
        "def f_mult2(pol_hex):  #  multiplication by 02\n",
        "        return two_pol[int(dec_hex(pol_hex[0])) * 16 + int(dec_hex(pol_hex[1]))]\n",
        "\n",
        "def gen_mult_hex(mult, pol_hex):  #  !!!!! use this to generate a precaluclated table for 03, 09, 0b, 0d, 0e for both forward and inverse mix columns\n",
        "    if mult == '01':\n",
        "        return pol_hex\n",
        "    if mult == '02':\n",
        "        return f_mult2(pol_hex)\n",
        "    if mult == '03':\n",
        "        return f_hex_xor(f_mult2(pol_hex), pol_hex)  # 02 xor 01 = 03\n",
        "    if mult == '09':\n",
        "        return f_hex_xor(f_mult2(f_mult2(f_mult2(pol_hex))), pol_hex)  #  (02 x 02 x 02) xor 01 = 09 or (X * X * X) + 1 = X^3 + 1\n",
        "    if mult == '0b':\n",
        "        return f_hex_xor(gen_mult_hex('09', pol_hex), f_mult2(pol_hex))  # 09 xor 02 = 0b or (X^3 + 1) + X = X^3 + X + 1\n",
        "    if mult == '0d':\n",
        "        return f_hex_xor(gen_mult_hex('09', pol_hex), f_mult2(f_mult2(pol_hex))) # 09 xor (02 x 02) = 0d or (X^3 + 1) + (X * X) = X^3 + X^2 + 1\n",
        "    if mult == '0e':\n",
        "        return f_hex_xor(f_hex_xor(f_mult2(f_mult2(f_mult2(pol_hex))), f_mult2(f_mult2(pol_hex))), f_mult2(pol_hex))\n",
        "        # (02 x 02 x 02) xor (02 x 02) xor 02 = 0e or (X * X * X) + (X * X) + X = X^3 + X^2 + X\n",
        "\n",
        "\n",
        "print(f_hex_xor('a1', '32')) # 93\n",
        "print(f_hex_xor('af', '00')) # af\n",
        "print(gen_mult_hex('01', 'a3')) # a3\n",
        "print(gen_mult_hex('02', '87')) # 15\n",
        "print(gen_mult_hex('03', '6e')) # b2\n",
        "print(gen_mult_hex('09', 'ae')) # a9\n",
        "print(gen_mult_hex('0b', '02')) # 16\n",
        "print(gen_mult_hex('0d', '11')) # dd\n",
        "print(gen_mult_hex('0e', 'cc')) # a4\n",
        "\n",
        "#  simplify functions add xor of hex function using tables"
      ]
    },
    {
      "cell_type": "code",
      "execution_count": 25,
      "id": "db51a10e-df1c-4bed-8345-59b04974823a",
      "metadata": {
        "trusted": true
      },
      "outputs": [],
      "source": [
        "mix_polys = ['01', '02', '03', '09', '0b', '0d', '0e']\n",
        "mult_tables = {}\n",
        "\n",
        "for i in mix_polys:\n",
        "    mult_tables[f'mult_table_{i}'] = []\n",
        "\n",
        "for mix_poly in mix_polys:\n",
        "    for hex_poly in hex_list:\n",
        "        mult_tables[f'mult_table_{mix_poly}'].append(gen_mult_hex(mix_poly, hex_poly))\n",
        "\n",
        "def fast_mult_hex(mix_poly, hex_poly):\n",
        "    return mult_tables[f'mult_table_{mix_poly}'][hex_list.index(hex_poly)]\n",
        "\n",
        "# print(mult_tables)"
      ]
    },
    {
      "cell_type": "code",
      "execution_count": 26,
      "id": "66f9fc53-6772-44d9-b44f-52f1aa13006b",
      "metadata": {
        "trusted": true
      },
      "outputs": [
        {
          "name": "stdout",
          "output_type": "stream",
          "text": [
            "['ae', 'a6', '51', 'dc', '63', '61', 'ab', '13', '6f', 'b3', '56', '88', 'ab', 'a1', 'e3', '6a']\n",
            "['47', '40', 'a3', '4c', '37', 'd4', '70', '9f', '94', 'e4', '3a', '42', 'ed', 'a5', 'a6', 'bc']\n"
          ]
        }
      ],
      "source": [
        "#  mix columns step function, receiving mixing matrix and input block use inverse for decryption\n",
        "def MixColumns(block, mix_matrix):  #  even though labelled as \"matrices\", these are unidimensional lists\n",
        "    mixed = []\n",
        "    for j in range(16):\n",
        "            element = '00'\n",
        "            for k in range(4):\n",
        "                element = f_hex_xor(element, fast_mult_hex(mix_matrix[(j//4) * 4 + k], block[j % 4 + 4 * k]))\n",
        "            mixed.append(element)\n",
        "    return mixed\n",
        "\n",
        "test1 = ['47', '40', 'a3', '4c',\n",
        "        '37', 'd4', '70', '9f',\n",
        "        '94', 'e4', '3a', '42',\n",
        "        'ed', 'a5', 'a6', 'bc']\n",
        "\n",
        "test2 = ['69', '89', 'ee', 'aa',\n",
        "        '7a', 'dc', 'a1', 'ec',\n",
        "        '46', 'e7', '4a', 'c3',\n",
        "        'a6', '8c', '99', 'e2']\n",
        "\n",
        "print(MixColumns(test1, mmat))\n",
        "print(MixColumns(MixColumns(test1, mmat), inv_mmat))"
      ]
    },
    {
      "cell_type": "code",
      "execution_count": 27,
      "id": "d2cf1d7f-0c9f-40fa-8b3f-a711d1757e75",
      "metadata": {
        "trusted": true
      },
      "outputs": [
        {
          "name": "stdout",
          "output_type": "stream",
          "text": [
            "['47', '40', 'a3', '4c', '37', 'd4', '70', '9f', '94', 'e4', '3a', '42', 'ed', 'a5', 'a6', 'bc']\n",
            "['a0', '09', '0a', '29', '9a', '48', '51', 'db', '22', '69', '80', '2c', '55', '06', '24', '65']\n",
            "['47', '40', 'a3', '4c', '37', 'd4', '70', '9f', '94', 'e4', '3a', '42', 'ed', 'a5', 'a6', 'bc']\n"
          ]
        }
      ],
      "source": [
        "# sub bytes step, used with inverse sbox in decryption\n",
        "def SubBytes(block, s_box):\n",
        "    subin = block[:]\n",
        "    for j in range(16):\n",
        "        subin[j] = s_box[hex_small_list.index(block[j][0]) * 16 + hex_small_list.index(block[j][1])]\n",
        "    return subin\n",
        "\n",
        "print(test1)\n",
        "print(SubBytes(test1, s_box))\n",
        "print(SubBytes(SubBytes(test1, s_box), inv_s_box))"
      ]
    },
    {
      "cell_type": "code",
      "execution_count": 28,
      "id": "851c3b2b-aaf5-44fb-8e3d-489aa9d111a7",
      "metadata": {
        "trusted": true
      },
      "outputs": [
        {
          "name": "stdout",
          "output_type": "stream",
          "text": [
            "['47', '40', 'a3', '4c', '37', 'd4', '70', '9f', '94', 'e4', '3a', '42', 'ed', 'a5', 'a6', 'bc']\n",
            "['47', '40', 'a3', '4c', 'd4', '70', '9f', '37', '3a', '42', '94', 'e4', 'bc', 'ed', 'a5', 'a6']\n",
            "['47', '40', 'a3', '4c', '37', 'd4', '70', '9f', '94', 'e4', '3a', '42', 'ed', 'a5', 'a6', 'bc']\n"
          ]
        }
      ],
      "source": [
        "# shift rows function, inv = 1 encryption, inv = -1 decryption\n",
        "def ShiftRows(block, inv):\n",
        "    shifted = block[:]\n",
        "    for i in range(4):\n",
        "        for j in range(4):\n",
        "            shifted[4 * i + j] = block[4 * i + ((j + (i * inv)) % 4)]\n",
        "    return shifted\n",
        "\n",
        "print(test1)\n",
        "print(ShiftRows(test1, 1))\n",
        "print(ShiftRows(ShiftRows(test1, 1), -1))"
      ]
    },
    {
      "cell_type": "code",
      "execution_count": 29,
      "id": "56ce8777-f4c3-4345-a1db-573ff8e9763b",
      "metadata": {
        "trusted": true
      },
      "outputs": [],
      "source": [
        "# key generation\n",
        "def XorWord(word_1, word_2):\n",
        "    return [f_hex_xor(word_1[i], word_2[i]) for i in range(4)]\n",
        "\n",
        "def RotWord(word):\n",
        "    return [word[1], word[2], word[3], word[0]]\n",
        "\n",
        "def SubWord(word):\n",
        "    return [s_box[hex_small_list.index(word[i][0]) * 16 + hex_small_list.index(word[i][1])] for i in range(4)]\n",
        "\n",
        "# nk = 8, nr = 14\n",
        "def KeyExpansion(key):\n",
        "    round_keys = key[:]\n",
        "    round_keys = round_keys + 52 * [[]]\n",
        "    for i in range(8, 60):\n",
        "        if i % 8 == 0:\n",
        "            round_keys[i] = XorWord(round_keys[i - 8], XorWord(SubWord(RotWord(round_keys[i - 1])), rcon[i // 8]))\n",
        "        elif (i + 4) % 8 == 0:\n",
        "            round_keys[i] = XorWord(round_keys[i - 8], SubWord(round_keys[i - 1]))\n",
        "        else:\n",
        "            round_keys[i] = XorWord(round_keys[i - 8], round_keys[i - 1])\n",
        "    return round_keys\n",
        "\n",
        "def AddRoundKey(block, four_round_keys):\n",
        "    added = []\n",
        "    for i in range(4):\n",
        "        for j in range(4):\n",
        "            added.append(f_hex_xor(four_round_keys[i + j], block[4 * j + i]))\n",
        "    return added"
      ]
    },
    {
      "cell_type": "code",
      "execution_count": 30,
      "id": "bcc70971-c5de-49f6-af11-67726aee1eb1",
      "metadata": {
        "trusted": true
      },
      "outputs": [],
      "source": [
        "#  AES one 128 bit block, 256 bit key, 14 rounds\n",
        "def RijndaelBlockEnc(block, key):\n",
        "    round_keys = KeyExpansion(key)\n",
        "    # initial add round key made up of first 4 words\n",
        "    four_round_keys = round_keys[0] + round_keys[1] + round_keys[2] + round_keys[3]\n",
        "    block = AddRoundKey(block, four_round_keys)[:]\n",
        "    # 13 rounds with sub bytes, shift rows, mix columns add round key\n",
        "    for i in range(1, 14):\n",
        "        block = SubBytes(block, s_box)[:]\n",
        "        block = ShiftRows(block, 1)[:]\n",
        "        block = MixColumns(block, mmat)[:]\n",
        "        four_round_keys = round_keys[4 * i + 0] + round_keys[4 * i + 1] + round_keys[4 * i + 2] + round_keys[4 * i + 3]\n",
        "        block = AddRoundKey(block, four_round_keys)[:]\n",
        "    # final 14th round without mix columns\n",
        "    block = SubBytes(block, s_box)[:]\n",
        "    block = ShiftRows(block, 1)[:]\n",
        "    four_round_keys = round_keys[56] + round_keys[57] + round_keys[58] + round_keys[59]\n",
        "    block = AddRoundKey(block, four_round_keys)[:]\n",
        "    return block"
      ]
    },
    {
      "cell_type": "code",
      "execution_count": 31,
      "id": "95c3d4b2-d0aa-4743-abe0-20972665699f",
      "metadata": {
        "trusted": true
      },
      "outputs": [],
      "source": [
        "def RijndaelBlockDec(block, key):\n",
        "    round_keys = KeyExpansion(key)\n",
        "    # initial add round key made up of last 4 words\n",
        "    four_round_keys = round_keys[56] + round_keys[57] + round_keys[58] + round_keys[59]\n",
        "    block = AddRoundKey(block, four_round_keys)[:]\n",
        "    # 13  rounds with inverse sub bytes,  inverse shift rows, inverse mix columns add round keys in reverse order\n",
        "    for i in range(13, 0, -1):\n",
        "        block = ShiftRows(block, -1)[:]\n",
        "        block = SubBytes(block, inv_s_box)[:]\n",
        "        four_round_keys = round_keys[4 * i + 0] + round_keys[4 * i + 1] + round_keys[4 * i + 2] + round_keys[4 * i + 3]\n",
        "        block = AddRoundKey(block, four_round_keys)[:]\n",
        "        block = MixColumns(block, inv_mmat)[:]\n",
        "    # final 14th round without inverse mix columns\n",
        "    block = ShiftRows(block, -1)[:]\n",
        "    block = SubBytes(block, inv_s_box)[:]\n",
        "    four_round_keys = round_keys[0] + round_keys[1] + round_keys[2] + round_keys[3]\n",
        "    block = AddRoundKey(block, four_round_keys)[:]\n",
        "    return block"
      ]
    },
    {
      "cell_type": "code",
      "execution_count": 32,
      "id": "637ed17e-9e3f-46d4-becf-b8de1f95d182",
      "metadata": {
        "trusted": true
      },
      "outputs": [
        {
          "name": "stdout",
          "output_type": "stream",
          "text": [
            "['68', '38', 'f6', '3b', '6a', '99', '92', '0a', 'cf', '6b', 'f1', '03', '2d', '6f', '5d', 'e0']\n",
            "['47', '40', 'a3', '4c', '37', 'd4', '70', '9f', '94', 'e4', '3a', '42', 'ed', 'a5', 'a6', 'bc']\n"
          ]
        }
      ],
      "source": [
        "key_test_1 = [['ae', '01', 'bc', '2f'], ['13', 'a1', 'be', '9c'], ['a6', '3f', 'b5', '2c'], ['5f', '11', 'ba', '2c'], \n",
        "       ['ad', '0e', 'd1', '2d'], ['15', '01', '0c', '11'], ['ae', '19', 'bc', '2c'], ['ae', '91', 'b7', '2c']\n",
        "      ]\n",
        "\n",
        "block = ['47', '40', 'a3', '4c',\n",
        "        '37', 'd4', '70', '9f',\n",
        "        '94', 'e4', '3a', '42',\n",
        "        'ed', 'a5', 'a6', 'bc']\n",
        "\n",
        "print(RijndaelBlockEnc(block, key_test_1))\n",
        "print(RijndaelBlockDec(RijndaelBlockEnc(block, key_test_1), key_test_1))"
      ]
    },
    {
      "cell_type": "code",
      "execution_count": 33,
      "id": "9f3b730a",
      "metadata": {},
      "outputs": [],
      "source": [
        "# adds 80 hex 10000000 bin followed by 00 to full block of 16 bytes or 32 for the key\n",
        "def padding(text):\n",
        "    if len(text) % 16 != 0:\n",
        "        p = text + ['80'] + ((16 - len(text) % 16) - 1) * ['00']\n",
        "        return p\n",
        "    else:\n",
        "        return text\n",
        "    \n",
        "def KeyPadding(text):\n",
        "    if len(text) % 32 != 0:\n",
        "        p = text + ['80'] + ((32 - len(text) % 32) - 1) * ['00']\n",
        "        return p\n",
        "    else:\n",
        "        return text"
      ]
    },
    {
      "cell_type": "code",
      "execution_count": 34,
      "id": "fa464c05",
      "metadata": {},
      "outputs": [
        {
          "name": "stdout",
          "output_type": "stream",
          "text": [
            "['48', '65', '79', '20', '4a', '75', '64', '65', '2c', '20', '64', '6f', '6e', '27', '74', '20', '6d', '61', '6b', '65', '20', '69', '74', '20', '62', '61', '64']\n",
            "Hey Jude, don't make it bad\n"
          ]
        }
      ],
      "source": [
        "def abc_hex(text):\n",
        "    t = []\n",
        "    for i in range(len(text)):\n",
        "        t = t + [hex[abc.index(text[i])]]\n",
        "    return t\n",
        "\n",
        "def hex_abc(text):\n",
        "    t = ''\n",
        "    for i in text:\n",
        "        t = t + abc[hex.index(i)]\n",
        "    return t\n",
        "\n",
        "print(abc_hex('Hey Jude, don\\'t make it bad'))\n",
        "print(hex_abc(abc_hex('Hey Jude, don\\'t make it bad')))"
      ]
    },
    {
      "cell_type": "code",
      "execution_count": 35,
      "id": "689c3de1",
      "metadata": {},
      "outputs": [
        {
          "name": "stdout",
          "output_type": "stream",
          "text": [
            "[['56', '65', '72', '79'], ['20', '73', '65', '63'], ['75', '72', '65', '20'], ['6b', '65', '79', '21'], ['80', '00', '00', '00'], ['00', '00', '00', '00'], ['00', '00', '00', '00'], ['00', '00', '00', '00']]\n"
          ]
        }
      ],
      "source": [
        "def KeyPreparation(key):\n",
        "    key = key[:56]  #  key has 32 characters/bytes, 256 bits\n",
        "    key = abc_hex(key)\n",
        "    key = KeyPadding(key)[:]\n",
        "    final_key = [key[0:4], key[4:8], key[8:12], key[12:16], key[16:20], key[20:24], key[24:28], key[28:32]]\n",
        "    return final_key\n",
        "\n",
        "key_test_2 = 'Very secure key!'\n",
        "print(KeyPreparation(key_test_2))"
      ]
    },
    {
      "cell_type": "code",
      "execution_count": 36,
      "id": "0c1e8969",
      "metadata": {},
      "outputs": [
        {
          "name": "stdout",
          "output_type": "stream",
          "text": [
            "['3f', '83', '9c', '39', '8e', '30', '60', '10', '60', '56', '2a', '9e', '95', 'b6', '7f', '04', '7a', 'ba', '20', '5a', '13', 'b1', '83', '3f', '69', 'ee', '18', '4c', 'b7', '58', '9a', '05', 'a2', '6e', 'f4', 'f6', 'c6', '78', '45', '98', '95', 'b9', 'd0', '66', 'fa', 'cf', '92', '67', '5f', 'e6', 'dc', 'bf', '23', 'f5', 'f3', '30', '26', '5c', 'fc', 'ee', '42', '02', '3b', 'f9', 'e2', 'd3', '10', '78', 'b3', '0b', '20', '00', 'a3', '3b', '99', 'be', '43', '51', '47', 'f5', '47', 'd3', 'e6', '67', 'de', '37', 'f9', '61', '3c', '5b', '42', '15', '35', 'e6', '2a', 'c1', 'a6', '91', '74', '2b', 'e7', '53', '66', 'f5', '93', '64', 'c5', 'c6', '88', '14', '99', 'dc', '17', 'cd', '15', '95', 'a9', '91', '2d', '20', 'df', 'fa', '7c', 'd2', '68', '3f', 'ad', '12', '7e', '48', '2a', 'e2', 'd8', '33', '12', '99', 'b3', '97', 'c6', 'ad', 'ab', '08', 'bd', '52', '05', '8d', '51', 'd6', '4e', 'f9', '7e', '5d', '08', '56', '70', '88', 'cb', 'f8', '6d', '98', 'be', '7f', 'c9', '3c', '91', 'aa', '84', 'd3', 'f0', '01', '41', '22', '46', '7d', 'ae', 'b7', '06', '20', '74', '9b', 'b2', 'a3', '1b', '41', 'b4', '28', 'f0', 'fd', 'ab', 'f6', '75', '8f', '37', '1c', 'c6', 'a0', '1c', '41', 'e0', '0c', '08', '6c', '7c', '94', '35', '09', 'cb', '78', 'b1', '5e', '9c', 'df', '16', '90', '82', 'dd', 'ca', 'e8', '45', '62', 'cb', '98', '25', '91', '8c', '56', 'e8', '6a', 'c1', 'ab', '21', '6c', '0a', 'c9', '7a', '6e', '64', 'd4', 'a7', 'ac', 'eb', '66', '8d', '3b', 'e0', '51', 'b7', '4d', 'f0', '49', 'a0', '91', '48', 'ae', 'cb', '8c', 'b9', 'ec', 'bc', '7b', 'a0', '95', '8e', '3c', 'f1', '47', '4a', '79', '26', 'e8', 'a2', '16', '7b', 'ba', '10', 'b8', '6e', 'c1', 'b8', 'c9', 'e8', 'e1', '2e', '7a', '52', '98', 'b2', '7f', 'b1', 'bb', '98', 'a0', 'b1', '49', 'a9', '78', 'a5', '9c', '4c', 'b1', '1b', '60', '5f', '99', '40', '2a', '86', '04', 'cd', '0e', 'bb', '2c', 'f9', '19', '11', '53', '36', '66', '7d', '6a', 'bb', '67', 'ac', '89', '0a', '1d', '88', '3a', '2f', 'e3', '9f', 'f4', '5f', '10', '50', '7e', 'b0', '9f', '51', '6b', '27', '1d', '44', 'f4', 'c8', '54', 'bb', 'c1', 'a2', '07', 'cf', '1f', 'b7', 'b8', '82', '2b', 'be', 'cd', 'e5', 'dd', '78', 'd1', 'f6', 'cf', '97', '01', '84', '0a', 'b3', 'bb', 'f0', '39', '12', '31', '2f', '09', '8a', '86', '1b', '96', 'd4', '91', '62', 'dc', 'ab', '70', 'b1', 'fb', '81', 'ef', '42', '3b', '18', '8e', '6f', '80', 'ab', 'ba', '05', 'c9', '94', 'ee', '34', 'be', '1c', '7a', '4a', '75', 'b4', '6e', '3d', 'c4', '3d', '78', 'bc', 'e1', '64', '38', '2d', '4a', '6b', '1d', '97', '27', 'e1', 'b7', '70', 'c1', 'b0', '01', 'e6', '6e', '72', 'b3', 'a3', '39', '5c', '80', '9f', '5b', 'be', '0c', 'e9', '85', '19', 'ae', '50', 'e2', 'f9', 'd0', '29', 'cb', 'ea', '02', '3d', '02', '20', 'dc', '2b', '01', '91', 'a1', '74', '93', '14', '25', '4c', '9c', 'b0', 'b5', 'ee', 'de', '50', '41', 'ab', '44', 'c0', '7b', '1a', '7d', 'f2', 'bf', '72', '9c', 'd1', '27', 'd5', '0a', '0c', '98', '8b', '6e', 'ef', '67', '98', '31', '12', 'ac', '2b', 'a2', '4b', 'd1', '29', 'eb', 'f0', '41', '96', 'd6', '93', '25', 'f0', 'a0', '87', 'b3', 'e2', 'aa', 'ed', '40', '20', '58', '34', '59', 'fd', '48', '5f', '05', 'e7', '28', '20', 'db', '6d', '7e', '63', 'd7', '2f', '64', '4e', '02', '2d', '6d', '91', '46', '66', '31', 'f3', '6d', 'ac', 'a5', '66', '3a', '9b', 'd5', '28', 'bb', '0b', '66', 'f2', '17', 'ec', '5c', '0f', 'dd', 'cf', '6b', '6f', 'fd', 'eb', '6c', '1c', '09', 'f7', 'c9', 'd4', '6c', '8b', '6e', 'be', 'fd', 'd4', '46', '19', 'f6', 'b0', 'dd', '45', '74', '91', '96', 'b9', '8f', '1e', 'f7', '34', '81', '8c', '69', '8b', '38', 'a9', '7c', 'f8', '6c', '67', '32', '59', '97', '52', '47', '3d', '0d', 'cf', 'd8', '30', '55', '30', '46', '22', '23', '8a', '8b', '28', 'ed', '1d', '28', '09', '2e', '3d', 'ac', '00', 'eb', '6b', '27', '8f', 'fa', '90', '70', '36', '78', '9c', '32', 'e0', '5b', '1d', 'c2', '88', '9e', '37', '3d', '97', 'd4', 'cf', '1e', 'e0', '04', '09', '82', 'c2', 'c4', '6c', '61', '03', 'e4', 'fb', '0a', '99', '17', '42', '9c', '5f', 'bb', '29', '18', 'da', '24', '2c', '38', '0b', '3a', '2f', 'cd', 'c1', 'f4', 'bd', '02', '7a', '64', '6a', 'c5', '48', '3a', 'cc', 'e1', '53', '46', 'f0', '7d', 'b6', 'c9', '4b', '85', 'db', 'fb', '7e', 'aa', '22', 'fa', '37', '1e', 'c0', 'ad', '41', 'c4', '55', '1f', '37', 'e0', 'f4', '7c', '2c', '75', '26', 'cb', 'b3', 'c7', '46', 'ec', 'a4', '53', '09', '58', 'c6', '4d', '42', 'a4', 'c3', 'a1', '60', '69', '38', '31', '34', 'a7', '40', '6d', 'f5', 'ca', '02', '34', '95', '08', '32', '2d', 'f2', 'e0', 'b9', '77', 'cb', '4e', '84', 'f7', 'e9', '61', 'cd', 'a7', '3e', '49', '6c', '0a', '56', '3c', '94', 'ba', '50', '96', '02', '4d', '25', '16', '0d', 'f6', '2c', '95', '88', '20', '96', '63', '69', 'e8', 'bd', '62', '31', '3b', '44', '4a', 'af', '75', '8b', 'a2', 'e5', '81', '3d', '46', 'ca', 'b4', 'bd', '68', '1d', '49', '1d', '9e', '74', '6b', 'bb', '4c', '49', '43', 'c1', 'e6', 'd3', '09', '60', '42', 'fe', 'b0', '77', '05', 'e4', '52', '88', '90', 'eb', '85', '53', '98', '1a', '7f', '41', 'ab', 'ac', '5b', 'dc', 'd2', '26', '6e', '9d', '77', '40', '64', '66', 'c3', '6c', 'ab', '81', '6b', '36', '3d', '24', 'af', 'd0', '0d', 'e6', '71', '80', 'd3', '72', '7c', '3a', 'd4', 'b4', '2b', '7f', '0a', 'ca', 'ba', '0f', '68', '36', 'dc', 'af', 'f9', '04', '8e', 'd6', '50', '47', 'f8', 'ee', 'd1', 'a0', '0a', '89', 'ca', 'ec', '81', '64', 'b3', '18', '74', '09', 'a4', '68', '09', '76', '15', '21', '18', '0b', '7e', 'a1', '9b', '04', '49', '40', '1d', '1c', '3a', 'ad', '03', '4e', '03', '4b', 'c9', '47', '58', 'cc', '16', 'a4', 'ba', '20', '13', '3a', '19', '4d', 'd7', 'c8', 'c2', 'e0', '38', '19', 'bd', 'e3', '6b', '61', '48', '80', '65', '61', 'e0', '9c', '35', '99', '54', 'de', '2e', 'b6', '0a', '3f', '2f', '0a', '62', '27', '6b', '20', 'd7', 'c9', '1a', '42', '13', 'dd', '73', '98', '46', '58', 'a8', 'af', '9c', '2f', 'fa', '69', '00', 'ac', 'b6', '3d', '17', '7c', '05', 'e6', 'db', '02', '4c', '2b', '98', '58', '0c', 'e4', 'ed', 'c8', '73', '9c', '32', '68', 'c1', 'd6', '31', '16', '73', '5f', '52', 'e0', 'cc', '07', '6f', '08', '15', '29', 'e1', '5e', '5c', '3d', '31', 'cf', '7c', 'ba', '2e', '65', '84', 'f2', '7c', 'e9', '33', 'ab', 'c8', '32', '5b', '4c', '66', 'e6', '62', '11', 'fe']\n",
            "?ƒœ9Ž0`␐`V*ž•¶␡␄zº Z␓±ƒ?iî␘L·Xš␅¢nôöÆxE˜•¹ÐfúÏ’g_æÜ¿#õó0&\\üîB␂;ùâÓ␐x³␋ ␀£;™¾CQGõGÓægÞ7ùa<[B␕5æ*Á¦‘t+çSfõ“dÅÆˆ␔™Ü␗Í␕•©‘- ßú|Òh?η␒~H*âØ3␒™³—Æη«␈½R␅βQÖNù~]␈VpˆËøm˜¾␡É<‘ª„Óð␁A\"F}®·␆ t›²£␛A´(ðý«öuγ7␜Æζ␜Aà␌␈l|”5␉Ëx±^œß␖δ‚ÝÊèEbË˜%‘ŒVèjÁ«!l␊ÉzndÔ§¬ëfβ;àQ·MðIζ‘H®ËŒ¹ì¼{ζ•Ž<ñGJy&è¢␖{º␐¸nÁ¸Éèá.zR˜²␡±»˜ζ±I©x¥œL±␛`_™@*†␄Í␎»,ù␙␑S6f}j»g¬‰␊␝ˆ:/ãŸô_␐P~°ŸQk'␝DôÈT»Á¢␇Ï␟·¸‚+¾ÍåÝxÑöÏ—␁„␊³»ð9␒1/␉Š†␛–Ô‘bÜ«p±ûαïB;␘Žo€«º␅É”î4¾␜zJu´n=Ä=x¼ád8-Jk␝—'á·pÁ°␁ænr³£9\\€Ÿ[¾␌é…␙®PâùÐ)Ëê␂=␂ Ü+␁‘¡t“␔%Lœ°µîÞPA«DÀ{␚}ò¿rœÑ'Õ␊␌˜‹nïg˜1␒¬+¢KÑ)ëðA–Ö“%ðζ‡³âªí@ X4YýH_␅ç( Ûm~c×/dN␂-m‘Ff1óm¬¥f:›Õ(»␋fò␗ì\\␏ÝÏkoýël␜␉÷ÉÔl‹n¾ýÔF␙ö°ÝEt‘–¹γ␞÷4αŒi‹8©|ølg2Y—RG=␍ÏØ0U0F\"#Š‹(í␝(␉.=¬␀ëk'γúδp6xœ2à[␝Âˆž7=—ÔÏ␞à␄␉‚ÂÄla␃äû␊™␗Bœ_»)␘Ú$,8␋:/ÍÁô½␂zdjÅH:ÌáSFð}¶ÉK…Ûû~ª\"ú7␞ÀηAÄU␟7àô|,u&Ë³ÇFì¤S␉XÆMB¤Ã¡`i814§@mõÊ␂4•␈2-òà¹wËN„÷éaÍ§>Il␊V<”ºP–␂M%␖␍ö,•ˆ –ciè½b1;DJ¯u‹¢åα=FÊ´½h␝I␝žtk»LICÁæÓ␉`Bþ°w␅äRˆδë…S˜␚␡A«¬[ÜÒ&nεw@dfÃl«αk6=$¯Ð␍æq€Ór|:Ô´+␡␊Êº␏h6Ü¯ù␄ŽÖPGøîÑζ␊‰Êìαd³␘t␉¤h␉v␕!␘␋~¡›␄I@␝␜:η␃N␃KÉGXÌ␖¤º ␓:␙M×ÈÂà8␙½ãkaH€eaàœ5™TÞ.¶␊?/␊b'k ×É␚B␓Ýs˜FX¨¯œ/úi␀¬¶=␗|␅æÛ␂L+˜X␌äíÈsœ2hÁÖ1␖s_RàÌ␇o␈␕)á^\\=1Ï|º.e„ò|é3«È2[Lfæb␑þ\n",
            "Verum sine mendacio, certum, et verissimum. Quod est inferius, est sicut quod est superius. Et quod est superius, est sicut quod est inferius, ad perpetranda miracula rei unius. Et sicut res omnes fuerunt ab uno, meditatione unius, sic omnes res natae ab hac una re, adaptatione. Pater eius est Sol, mater eius est Luna. Portavit illud ventus in ventre suo. Nutrix eius terra est. Pater omnis telesmi totius mundi est hic. Vis eius integra est, si versa fuerit in terram. Separabis terram ab igne, subtile ab spisso, suaviter cum magno ingenio. Ascendit a terra in coelum, iterumque descendit in terram, et recipit vim superiorum et inferiorum. Sic habebis gloriam totius mundi. Ideo fugiet a te omnis obscuritas. Haec est totius fortitudinis fortitudo fortis, quia vincet omnem rem subtilem, omnemque solidam penetrabit. Sic mundus creatus est. Hinc erunt adaptationes mirabiles, quarum modus hic est. Itaque vocatus sum Hermes Trismegistus, habens tres partes philosophiae totius mundi. Completum est, quod dixi de operatione Solis.€␀␀␀␀␀\n"
          ]
        }
      ],
      "source": [
        "def EncAes256Ecb(plaintext, key):\n",
        "    key = KeyPreparation(key)\n",
        "    plaintext = padding(abc_hex(plaintext))\n",
        "    ciphertext = []\n",
        "    for i in range(len(plaintext) // 16):\n",
        "        ciphertext += RijndaelBlockEnc(plaintext[16 * i:16 * (i + 1)], key)\n",
        "    return ciphertext\n",
        "\n",
        "def DecAes256Ecb(ciphertext, key):\n",
        "    key = KeyPreparation(key)\n",
        "    ciphertext = padding(ciphertext)\n",
        "    plaintext = ''\n",
        "    for i in range(len(ciphertext) // 16):\n",
        "        plaintext += hex_abc(RijndaelBlockDec(ciphertext[16 * i:16 * (i + 1)], key))\n",
        "    return plaintext\n",
        "\n",
        "\n",
        "test3 = 'Verum sine mendacio, certum, et verissimum. Quod est inferius, est sicut quod est superius. Et quod est superius, est sicut quod est inferius, ad perpetranda miracula rei unius. Et sicut res omnes fuerunt ab uno, meditatione unius, sic omnes res natae ab hac una re, adaptatione. Pater eius est Sol, mater eius est Luna. Portavit illud ventus in ventre suo. Nutrix eius terra est. Pater omnis telesmi totius mundi est hic. Vis eius integra est, si versa fuerit in terram. Separabis terram ab igne, subtile ab spisso, suaviter cum magno ingenio. Ascendit a terra in coelum, iterumque descendit in terram, et recipit vim superiorum et inferiorum. Sic habebis gloriam totius mundi. Ideo fugiet a te omnis obscuritas. Haec est totius fortitudinis fortitudo fortis, quia vincet omnem rem subtilem, omnemque solidam penetrabit. Sic mundus creatus est. Hinc erunt adaptationes mirabiles, quarum modus hic est. Itaque vocatus sum Hermes Trismegistus, habens tres partes philosophiae totius mundi. Completum est, quod dixi de operatione Solis.'\n",
        "\n",
        "key3 = 'Tabula Smaragdina'\n",
        "\n",
        "print(EncAes256Ecb(test3, key3))\n",
        "print(hex_abc(EncAes256Ecb(test3, key3)))\n",
        "print(DecAes256Ecb(EncAes256Ecb(test3, key3), key3))\n"
      ]
    }
  ],
  "metadata": {
    "kernelspec": {
      "display_name": "Python 3",
      "language": "python",
      "name": "python3"
    },
    "language_info": {
      "codemirror_mode": {
        "name": "ipython",
        "version": 3
      },
      "file_extension": ".py",
      "mimetype": "text/x-python",
      "name": "python",
      "nbconvert_exporter": "python",
      "pygments_lexer": "ipython3",
      "version": "3.13.0"
    }
  },
  "nbformat": 4,
  "nbformat_minor": 5
}
