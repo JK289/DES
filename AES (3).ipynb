{
  "metadata": {
    "kernelspec": {
      "name": "python",
      "display_name": "Python (Pyodide)",
      "language": "python"
    },
    "language_info": {
      "codemirror_mode": {
        "name": "python",
        "version": 3
      },
      "file_extension": ".py",
      "mimetype": "text/x-python",
      "name": "python",
      "nbconvert_exporter": "python",
      "pygments_lexer": "ipython3",
      "version": "3.8"
    }
  },
  "nbformat_minor": 5,
  "nbformat": 4,
  "cells": [
    {
      "id": "dccb6558-9743-4a16-bff7-c4fa96579908",
      "cell_type": "code",
      "source": "# AES-256 \n# nk = 8, number of 4-byte words in key\n# nr = 14, number of rounds \n\n\n# irreducible polynomial X^8 + X^4 + X^3 + X + 1\nirr = '100011011'\n\n# matrix of polynomials for mix columns used in encryption\nmmat = ['02', '03', '01', '01',\n        '01', '02', '03', '01',\n        '01', '01', '02', '03',\n        '03', '01', '01', '02']\n\n# inverse matrix of polynomials for inverse mix columns used in decryption\ninv_mmat = ['0e', '0b', '0d', '09',\n            '09', '0e', '0b', '0d',\n            '0d', '09', '0e', '0b',\n            '0b', '0d', '09', '0e']\n\n# S-box used in SubBytes for encryption\ns_box = [\n    '63', '7c', '77', '7b', 'f2', '6b', '6f', 'c5', '30', '01', '67', '2b', 'fe', 'd7', 'ab', '76',\n    'ca', '82', 'c9', '7d', 'fa', '59', '47', 'f0', 'ad', 'd4', 'a2', 'af', '9c', 'a4', '72', 'c0', \n    'b7', 'fd', '93', '26', '36', '3f', 'f7', 'cc', '34', 'a5', 'e5', 'f1', '71', 'd8', '31', '15', \n    '04', 'c7', '23', 'c3', '18', '96', '05', '9a', '07', '12', '80', 'e2', 'eb', '27', 'b2', '75', \n    '09', '83', '2c', '1a', '1b', '6e', '5a', 'a0', '52', '3b', 'd6', 'b3', '29', 'e3', '2f', '84', \n    '53', 'd1', '00', 'ed', '20', 'fc', 'b1', '5b', '6a', 'cb', 'be', '39', '4a', '4c', '58', 'cf', \n    'd0', 'ef', 'aa', 'fb', '43', '4d', '33', '85', '45', 'f9', '02', '7f', '50', '3c', '9f', 'a8', \n    '51', 'a3', '40', '8f', '92', '9d', '38', 'f5', 'bc', 'b6', 'da', '21', '10', 'ff', 'f3', 'd2', \n    'cd', '0c', '13', 'ec', '5f', '97', '44', '17', 'c4', 'a7', '7e', '3d', '64', '5d', '19', '73', \n    '60', '81', '4f', 'dc', '22', '2a', '90', '88', '46', 'ee', 'b8', '14', 'de', '5e', '0b', 'db', \n    'e0', '32', '3a', '0a', '49', '06', '24', '5c', 'c2', 'd3', 'ac', '62', '91', '95', 'e4', '79', \n    'e7', 'c8', '37', '6d', '8d', 'd5', '4e', 'a9', '6c', '56', 'f4', 'ea', '65', '7a', 'ae', '08', \n    'ba', '78', '25', '2e', '1c', 'a6', 'b4', 'c6', 'e8', 'dd', '74', '1f', '4b', 'bd', '8b', '8a', \n    '70', '3e', 'b5', '66', '48', '03', 'f6', '0e', '61', '35', '57', 'b9', '86', 'c1', '1d', '9e', \n    'e1', 'f8', '98', '11', '69', 'd9', '8e', '94', '9b', '1e', '87', 'e9', 'ce', '55', '28', 'df', \n    '8c', 'a1', '89', '0d', 'bf', 'e6', '42', '68', '41', '99', '2d', '0f', 'b0', '54', 'bb', '16'\n]\n\n# inverse S-box used in SubBytes for decryption\ninv_s_box = [\n    '52', '09', '6a', 'd5', '30', '36', 'a5', '38', 'bf', '40', 'a3', '9e', '81', 'f3', 'd7', 'fb',\n    '7c', 'e3', '39', '82', '9b', '2f', 'ff', '87', '34', '8e', '43', '44', 'c4', 'de', 'e9', 'cb', \n    '54', '7b', '94', '32', 'a6', 'c2', '23', '3d', 'ee', '4c', '95', '0b', '42', 'fa', 'c3', '4e', \n    '08', '2e', 'a1', '66', '28', 'd9', '24', 'b2', '76', '5b', 'a2', '49', '6d', '8b', 'd1', '25', \n    '72', 'f8', 'f6', '64', '86', '68', '98', '16', 'd4', 'a4', '5c', 'cc', '5d', '65', 'b6', '92', \n    '6c', '70', '48', '50', 'fd', 'ed', 'b9', 'da', '5e', '15', '46', '57', 'a7', '8d', '9d', '84', \n    '90', 'd8', 'ab', '00', '8c', 'bc', 'd3', '0a', 'f7', 'e4', '58', '05', 'b8', 'b3', '45', '06', \n    'd0', '2c', '1e', '8f', 'ca', '3f', '0f', '02', 'c1', 'af', 'bd', '03', '01', '13', '8a', '6b', \n    '3a', '91', '11', '41', '4f', '67', 'dc', 'ea', '97', 'f2', 'cf', 'ce', 'f0', 'b4', 'e6', '73', \n    '96', 'ac', '74', '22', 'e7', 'ad', '35', '85', 'e2', 'f9', '37', 'e8', '1c', '75', 'df', '6e', \n    '47', 'f1', '1a', '71', '1d', '29', 'c5', '89', '6f', 'b7', '62', '0e', 'aa', '18', 'be', '1b', \n    'fc', '56', '3e', '4b', 'c6', 'd2', '79', '20', '9a', 'db', 'c0', 'fe', '78', 'cd', '5a', 'f4', \n    '1f', 'dd', 'a8', '33', '88', '07', 'c7', '31', 'b1', '12', '10', '59', '27', '80', 'ec', '5f', \n    '60', '51', '7f', 'a9', '19', 'b5', '4a', '0d', '2d', 'e5', '7a', '9f', '93', 'c9', '9c', 'ef', \n    'a0', 'e0', '3b', '4d', 'ae', '2a', 'f5', 'b0', 'c8', 'eb', 'bb', '3c', '83', '53', '99', '61', \n    '17', '2b', '04', '7e', 'ba', '77', 'd6', '26', 'e1', '69', '14', '63', '55', '21', '0c', '7d'\n]\n\n# rounding constants used in key schedule\nrcon = [['01', '00', '00', '00'], ['02', '00', '00', '00'], ['04', '00', '00', '00'], ['08', '00', '00', '00'], \n        ['10', '00', '00', '00'], ['20', '00', '00', '00'], ['40', '00', '00', '00'], ['80', '00', '00', '00'], \n        ['1b', '00', '00', '00'], ['36', '00', '00', '00']]",
      "metadata": {
        "trusted": true
      },
      "outputs": [],
      "execution_count": 193
    },
    {
      "id": "def46e65-8cd6-448e-8b28-f93a289ab67a",
      "cell_type": "code",
      "source": "def hex_bin(n):  #  converts between binary and hexadecimal\n    hex_digits = ['0', '1', '2', '3', '4', '5', '6', '7', '8', '9', 'a', 'b', 'c', 'd', 'e', 'f']\n    bin_digits = [f'{a:0{4}b}' for a in range(16)]\n    if n in hex_digits:\n        return bin_digits[hex_digits.index(n)]\n    if n in bin_digits:\n        return hex_digits[bin_digits.index(n)]\n    return 'invalid'\n\ndef dec_hex(n):  #  converts between decimal and hexadecimal\n    hex_digits = ['0', '1', '2', '3', '4', '5', '6', '7', '8', '9', 'a', 'b', 'c', 'd', 'e', 'f']\n    dec_digits = [f'{a}' for a in range(16)]\n    if n in hex_digits:\n        return dec_digits[hex_digits.index(n)]\n    if n in dec_digits:\n        return hex_digits[dec_digits.index(n)]\n    return 'invalid'\n\nprint(hex_bin('0101'))\nprint(dec_hex('d'))",
      "metadata": {
        "trusted": true
      },
      "outputs": [
        {
          "name": "stdout",
          "output_type": "stream",
          "text": "5\n13\n"
        }
      ],
      "execution_count": 194
    },
    {
      "id": "3fd10570-e43c-44db-80ea-1c1963ad4006",
      "cell_type": "code",
      "source": "def xor(a, b):\n    c = ''\n    for i in range(len(a)):\n        if a[i] == b[i]:\n            c += '0'\n        else:\n            c += '1'\n    return c",
      "metadata": {
        "trusted": true
      },
      "outputs": [],
      "execution_count": 195
    },
    {
      "id": "5586e8f9-c47a-457c-b6be-70bd7af2ef9d",
      "cell_type": "code",
      "source": "def mult_2(pol, irr):  #  multiplication by polynomial 00000010 in GF(256) using an irreducible polynomial\n    pol = pol + '0'\n    if pol[0] == '1':  #  if we have an X^8 term we reduce modulo the irreducible polynomial\n        pol = xor(pol, irr)\n    pol = pol[1:]  #  slice back to 8 binary digits\n    return pol\n\nprint(mult_2('10000111', '100011011')) # 00010101",
      "metadata": {
        "trusted": true
      },
      "outputs": [
        {
          "name": "stdout",
          "output_type": "stream",
          "text": "00010101\n"
        }
      ],
      "execution_count": 196
    },
    {
      "id": "fda09621-1514-4a96-92d4-b2214a6a068c",
      "cell_type": "code",
      "source": "hex_small_list = []\nfor d1 in range(16):\n    hex_small_list.append(dec_hex(str(d1)))\n        \n\nhex_list = []\nfor d1 in range(16):\n    for d2 in range(16):\n        hex_list.append(dec_hex(str(d1)) + dec_hex(str(d2)))\n        \n\n\n#  hexadecimal xor list\nhex_xor_list = []\nfor d1 in range(16):\n    for d2 in range(16):\n        hex_xor_list.append(hex_bin(xor(f'{d1:0{4}b}', f'{d2:0{4}b}')))\n\n#  build list of results of the operation 02 * h in GF(256) for hex numbers h from 00 to FF using stated irreducible polynomial for faster calculation\n\ntwo_pol = []\nfor d1 in range(16):\n    for d2 in range(16):\n        mult = mult_2(f'{d1:0{4}b}' + f'{d2:0{4}b}', irr)\n        two_pol.append(hex_bin(mult[:4]) + hex_bin(mult[4:]))      ",
      "metadata": {
        "trusted": true,
        "scrolled": true
      },
      "outputs": [],
      "execution_count": 197
    },
    {
      "id": "6472faee-4bf4-4cfd-933c-e824bf8b083c",
      "cell_type": "code",
      "source": "def f_hex_xor(x, y):  #  xor double hex digits using table\n    return hex_xor_list[hex_small_list.index(x[0]) * 16 + hex_small_list.index(y[0])] + hex_xor_list[hex_small_list.index(x[1]) * 16 + hex_small_list.index(y[1])]\n\ndef f_mult2(pol_hex):  #  multiplication by 02\n        return two_pol[int(dec_hex(pol_hex[0])) * 16 + int(dec_hex(pol_hex[1]))]\n\ndef gen_mult_hex(mult, pol_hex):  #  !!!!! use this to generate a precaluclated table for 03, 09, 0b, 0d, 0e for both forward and inverse mix columns\n    if mult == '01':\n        return pol_hex\n    if mult == '02':\n        return f_mult2(pol_hex)\n    if mult == '03':\n        return f_hex_xor(f_mult2(pol_hex), pol_hex)  # 02 xor 01 = 03\n    if mult == '09':\n        return f_hex_xor(f_mult2(f_mult2(f_mult2(pol_hex))), pol_hex)  #  (02 x 02 x 02) xor 01 = 09 or (X * X * X) + 1 = X^3 + 1\n    if mult == '0b':\n        return f_hex_xor(gen_mult_hex('09', pol_hex), f_mult2(pol_hex))  # 09 xor 02 = 0b or (X^3 + 1) + X = X^3 + X + 1\n    if mult == '0d':\n        return f_hex_xor(gen_mult_hex('09', pol_hex), f_mult2(f_mult2(pol_hex))) # 09 xor (02 x 02) = 0d or (X^3 + 1) + (X * X) = X^3 + X^2 + 1\n    if mult == '0e':\n        return f_hex_xor(f_hex_xor(f_mult2(f_mult2(f_mult2(pol_hex))), f_mult2(f_mult2(pol_hex))), f_mult2(pol_hex))\n        # (02 x 02 x 02) xor (02 x 02) xor 02 = 0e or (X * X * X) + (X * X) + X = X^3 + X^2 + X\n\n\nprint(f_hex_xor('a1', '32')) # 93\nprint(f_hex_xor('af', '00')) # af\nprint(gen_mult_hex('01', 'a3')) # a3\nprint(gen_mult_hex('02', '87')) # 15\nprint(gen_mult_hex('03', '6e')) # b2\nprint(gen_mult_hex('09', 'ae')) # a9\nprint(gen_mult_hex('0b', '02')) # 16\nprint(gen_mult_hex('0d', '11')) # dd\nprint(gen_mult_hex('0e', 'cc')) # a4\n\n#  simplify functions add xor of hex function using tables",
      "metadata": {
        "trusted": true
      },
      "outputs": [
        {
          "name": "stdout",
          "output_type": "stream",
          "text": "93\naf\na3\n15\nb2\na9\n16\ndd\na4\n"
        }
      ],
      "execution_count": 198
    },
    {
      "id": "db51a10e-df1c-4bed-8345-59b04974823a",
      "cell_type": "code",
      "source": "mix_polys = ['01', '02', '03', '09', '0b', '0d', '0e']\nmult_tables = {}\n\nfor i in mix_polys:\n    mult_tables[f'mult_table_{i}'] = []\n\nfor mix_poly in mix_polys:\n    for hex_poly in hex_list:\n        mult_tables[f'mult_table_{mix_poly}'].append(gen_mult_hex(mix_poly, hex_poly))\n\ndef fast_mult_hex(mix_poly, hex_poly):\n    return mult_tables[f'mult_table_{mix_poly}'][hex_list.index(hex_poly)]\n\n# print(mult_tables)",
      "metadata": {
        "trusted": true
      },
      "outputs": [],
      "execution_count": 199
    },
    {
      "id": "66f9fc53-6772-44d9-b44f-52f1aa13006b",
      "cell_type": "code",
      "source": "#  mix columns step function, receiving mixing matrix and input block use inverse for decryption\ndef MixColumns(block, mix_matrix):  #  even though labelled as \"matrices\", these are unidimensional lists\n    mixed = []\n    for j in range(16):\n            element = '00'\n            for k in range(4):\n                element = f_hex_xor(element, fast_mult_hex(mix_matrix[(j//4) * 4 + k], block[j % 4 + 4 * k]))\n            mixed.append(element)\n    return mixed\n\ntest = ['47', '40', 'a3', '4c',\n        '37', 'd4', '70', '9f',\n        '94', 'e4', '3a', '42',\n        'ed', 'a5', 'a6', 'bc']\n\ntest2 = ['69', '89', 'ee', 'aa',\n        '7a', 'dc', 'a1', 'ec',\n        '46', 'e7', '4a', 'c3',\n        'a6', '8c', '99', 'e2']\n\nprint(mix_columns(mmat, test))\nprint(mix_columns(mmat, test2))\nprint(mix_columns(inv_mmat, mix_columns(mmat, test)))\nprint(mix_columns(inv_mmat, mix_columns(mmat, test2)))",
      "metadata": {
        "trusted": true
      },
      "outputs": [
        {
          "name": "stdout",
          "output_type": "stream",
          "text": "['ae', 'a6', '51', 'dc', '63', '61', 'ab', '13', '6f', 'b3', '56', '88', 'ab', 'a1', 'e3', '6a']\n['bc', '1d', 'ec', '41', 'f1', '94', 'f0', 'd5', '6e', '0f', '6b', 'e6', 'd0', 'b8', 'eb', '15']\n['47', '40', 'a3', '4c', '37', 'd4', '70', '9f', '94', 'e4', '3a', '42', 'ed', 'a5', 'a6', 'bc']\n['69', '89', 'ee', 'aa', '7a', 'dc', 'a1', 'ec', '46', 'e7', '4a', 'c3', 'a6', '8c', '99', 'e2']\n"
        }
      ],
      "execution_count": 200
    },
    {
      "id": "d2cf1d7f-0c9f-40fa-8b3f-a711d1757e75",
      "cell_type": "code",
      "source": "# sub bytes step, used with inverse sbox in decryption\ndef SubBytes(block, s_box):\n    subin = block[:]\n    for j in range(16):\n        subin[j] = s_box[hex_small_list.index(block[j][0]) * 16 + hex_small_list.index(block[j][1])]\n    return subin\n\nprint(test)\nprint(sub_bytes(s_box, test))\nprint(sub_bytes(inv_s_box, sub_bytes(s_box, test)))",
      "metadata": {
        "trusted": true
      },
      "outputs": [
        {
          "name": "stdout",
          "output_type": "stream",
          "text": "['47', '40', 'a3', '4c', '37', 'd4', '70', '9f', '94', 'e4', '3a', '42', 'ed', 'a5', 'a6', 'bc']\n['a0', '09', '0a', '29', '9a', '48', '51', 'db', '22', '69', '80', '2c', '55', '06', '24', '65']\n['47', '40', 'a3', '4c', '37', 'd4', '70', '9f', '94', 'e4', '3a', '42', 'ed', 'a5', 'a6', 'bc']\n"
        }
      ],
      "execution_count": 201
    },
    {
      "id": "851c3b2b-aaf5-44fb-8e3d-489aa9d111a7",
      "cell_type": "code",
      "source": "# shift rows function, inv = 1 encryption, inv = -1 decryption\ndef ShiftRows(block, inv):\n    shifted = block[:]\n    for i in range(4):\n        for j in range(4):\n            shifted[4 * i + j] = block[4 * i + ((j + (i * inv)) % 4)]\n    return shifted\n\nprint(test)\nprint(shift_rows(test, 1))\nprint(shift_rows(shift_rows(test, 1), -1))",
      "metadata": {
        "trusted": true
      },
      "outputs": [
        {
          "name": "stdout",
          "output_type": "stream",
          "text": "['47', '40', 'a3', '4c', '37', 'd4', '70', '9f', '94', 'e4', '3a', '42', 'ed', 'a5', 'a6', 'bc']\n['47', '40', 'a3', '4c', 'd4', '70', '9f', '37', '3a', '42', '94', 'e4', 'bc', 'ed', 'a5', 'a6']\n['47', '40', 'a3', '4c', '37', 'd4', '70', '9f', '94', 'e4', '3a', '42', 'ed', 'a5', 'a6', 'bc']\n"
        }
      ],
      "execution_count": 202
    },
    {
      "id": "56ce8777-f4c3-4345-a1db-573ff8e9763b",
      "cell_type": "code",
      "source": "# key generation\ndef XorWord(word_1, word_2):\n    return [f_hex_xor(word_1[i], word_2[i]) for i in range(4)]\n\ndef RotWord(word):\n    return [word[1], word[2], word[3], word[0]]\n\ndef SubWord(word):\n    return [s_box[hex_small_list.index(word[i][0]) * 16 + hex_small_list.index(word[i][1])] for i in range(4)]\n\n# nk = 8, nr = 14\ndef KeyExpansion(key):\n    round_keys = key[:]\n    round_keys = round_keys + 52 * [[]]\n    for i in range(8, 60):\n        if i % 8 == 0:\n            round_keys[i] = XorWord(round_keys[i - 8], XorWord(SubWord(RotWord(round_keys[i - 1])), rcon[i // 8]))\n        elif (i + 4) % 8 == 0:\n            round_keys[i] = XorWord(round_keys[i - 8], SubWord(round_keys[i - 1]))\n        else:\n            round_keys[i] = XorWord(round_keys[i - 8], round_keys[i - 1])\n    return round_keys\n\ndef AddRoundKey(block, four_round_keys):\n    added = []\n    for i in range(4):\n        for j in range(4):\n            added.append(f_hex_xor(four_round_keys[i + j], block[4 * j + i]))\n    return added",
      "metadata": {
        "trusted": true
      },
      "outputs": [],
      "execution_count": 203
    },
    {
      "id": "bcc70971-c5de-49f6-af11-67726aee1eb1",
      "cell_type": "code",
      "source": "#  AES one 128 bit block, 256 bit key, 14 rounds\ndef RijndaelBlockEnc(block, key):\n    round_keys = KeyExpansion(key)\n    # initial add round key made up of first 4 words\n    four_round_keys = round_keys[0] + round_keys[1] + round_keys[2] + round_keys[3]\n    block = AddRoundKey(block, four_round_keys)[:]\n    # 13 rounds with sub bytes, shift rows, mix columns add round key\n    for i in range(1, 14):\n        block = SubBytes(block, s_box)[:]\n        block = ShiftRows(block, 1)[:]\n        block = MixColumns(block, mmat)[:]\n        four_round_keys = round_keys[4 * i + 0] + round_keys[4 * i + 1] + round_keys[4 * i + 2] + round_keys[4 * i + 3]\n        block = AddRoundKey(block, four_round_keys)[:]\n    # final 14th round without mix columns\n    block = SubBytes(block, s_box)[:]\n    block = ShiftRows(block, 1)[:]\n    four_round_keys = round_keys[56] + round_keys[57] + round_keys[58] + round_keys[59]\n    block = AddRoundKey(block, four_round_keys)[:]\n    return block",
      "metadata": {
        "trusted": true
      },
      "outputs": [],
      "execution_count": 204
    },
    {
      "id": "95c3d4b2-d0aa-4743-abe0-20972665699f",
      "cell_type": "code",
      "source": "def RijndaelBlockDec(block, key):\n    round_keys = KeyExpansion(key)\n    # initial add round key made up of last 4 words\n    four_round_keys = round_keys[56] + round_keys[57] + round_keys[58] + round_keys[59]\n    block = AddRoundKey(block, four_round_keys)[:]\n    # 13  rounds with inverse sub bytes,  inverse shift rows, inverse mix columns add round keys in reverse order\n    for i in range(13, 0, -1):\n        block = ShiftRows(block, -1)[:]\n        block = SubBytes(block, inv_s_box)[:]\n        four_round_keys = round_keys[4 * i + 0] + round_keys[4 * i + 1] + round_keys[4 * i + 2] + round_keys[4 * i + 3]\n        block = AddRoundKey(block, four_round_keys)[:]\n        block = MixColumns(block, inv_mmat)[:]\n    # final 14th round without inverse mix columns\n    block = ShiftRows(block, -1)[:]\n    block = SubBytes(block, inv_s_box)[:]\n    four_round_keys = round_keys[0] + round_keys[1] + round_keys[2] + round_keys[3]\n    block = AddRoundKey(block, four_round_keys)[:]\n    return block",
      "metadata": {
        "trusted": true
      },
      "outputs": [],
      "execution_count": 205
    },
    {
      "id": "637ed17e-9e3f-46d4-becf-b8de1f95d182",
      "cell_type": "code",
      "source": "key = [['ae', '01', 'bc', '2f'], ['13', 'a1', 'be', '9c'], ['a6', '3f', 'b5', '2c'], ['5f', '11', 'ba', '2c'], \n       ['ad', '0e', 'd1', '2d'], ['15', '01', '0c', '11'], ['ae', '19', 'bc', '2c'], ['ae', '91', 'b7', '2c']\n      ]\n\nblock = ['47', '40', 'a3', '4c',\n        '37', 'd4', '70', '9f',\n        '94', 'e4', '3a', '42',\n        'ed', 'a5', 'a6', 'bc']\n\nprint(RijndaelBlockEnc(block, key))\nprint(RijndaelBlockDec(RijndaelBlockEnc(block, key), key))",
      "metadata": {
        "trusted": true
      },
      "outputs": [
        {
          "name": "stdout",
          "output_type": "stream",
          "text": "['68', '38', 'f6', '3b', '6a', '99', '92', '0a', 'cf', '6b', 'f1', '03', '2d', '6f', '5d', 'e0']\n['47', '40', 'a3', '4c', '37', 'd4', '70', '9f', '94', 'e4', '3a', '42', 'ed', 'a5', 'a6', 'bc']\n"
        }
      ],
      "execution_count": 214
    },
    {
      "id": "7dc39b20-743e-4ece-af81-8aa2c94113b0",
      "cell_type": "code",
      "source": "",
      "metadata": {
        "trusted": true
      },
      "outputs": [],
      "execution_count": null
    }
  ]
}